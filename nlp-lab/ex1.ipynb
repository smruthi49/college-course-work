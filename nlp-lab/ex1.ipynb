{
 "cells": [
  {
   "cell_type": "markdown",
   "metadata": {},
   "source": [
    "Identify the list of candidate words using Trie structure for the misspelled word. Find the minimum\n",
    "edit distance and choose the correct word based on the context.\\\n",
    "INPUT:\\\n",
    "\"During the summer we have the best ueather.\", \"I have a black ueather jacket, so nice.\"\\\n",
    "OUTPUT:\\\n",
    "\"During the summer we have the best weather.\", \"I have a black leather jacket, so nice.\"\\\n",
    "Use the developed model to choose the correct spellings for the following sentences:\n",
    "1. Mr Patrick is our new (principle/principal).\n",
    "2. The company (excepted/accepted) all the terms.\n",
    "3. Please don’t keep your dog on the (lose/loose).\n",
    "4. The (later/latter) is my best friend.\n",
    "5. I need some (stationary/stationery) products for my craftwork.\n",
    "6. The actor (excepted/accepted) the Oscar.\n",
    "7. I will call you (later/latter) in the evening.\n",
    "8. Covid (affects/effects) the lungs.\n",
    "9. The (council/counsel) of the ministers were sworn in yesterday.\n",
    "10. Robert (too/to) wants to accompany us to the park.\n",
    "11. Mia will (council/counsel) me about choosing fashion as my career.\n",
    "12. The (bear/bare) at the zoo was very playful.\n",
    "13. The sheep have a lot of (fur/far) that keeps them warm.\n",
    "14. The hot spring is at the (furthest/ farthest) corner of the street.\n",
    "15. Can you (advice/advise) me on how to study for exams?\n",
    "16. The team will (loose/lose) the match if they don’t play well.\n",
    "17. Can you go (to/too) the market for me?\n",
    "18. The teachers asked the students to keep (quite/quiet).\n",
    "19. The (heap/hip) of garbage should be cleaned immediately.\n",
    "20. This is (there/their) house."
   ]
  },
  {
   "cell_type": "code",
   "execution_count": 2,
   "metadata": {},
   "outputs": [],
   "source": [
    "import nltk\n",
    "from nltk import ngrams\n",
    "\n",
    "from nltk.probability import FreqDist, ConditionalFreqDist\n",
    "\n",
    "#corpus for words and sentences\n",
    "from nltk.corpus import brown, movie_reviews, reuters"
   ]
  },
  {
   "cell_type": "code",
   "execution_count": 3,
   "metadata": {},
   "outputs": [
    {
     "name": "stderr",
     "output_type": "stream",
     "text": [
      "[nltk_data] Downloading package movie_reviews to\n",
      "[nltk_data]     /home/smruthi/nltk_data...\n",
      "[nltk_data]   Package movie_reviews is already up-to-date!\n",
      "[nltk_data] Downloading package reuters to /home/smruthi/nltk_data...\n",
      "[nltk_data]   Package reuters is already up-to-date!\n",
      "[nltk_data] Downloading package brown to /home/smruthi/nltk_data...\n",
      "[nltk_data]   Package brown is already up-to-date!\n"
     ]
    },
    {
     "data": {
      "text/plain": [
       "True"
      ]
     },
     "execution_count": 3,
     "metadata": {},
     "output_type": "execute_result"
    }
   ],
   "source": [
    "nltk.download(\"movie_reviews\")\n",
    "nltk.download(\"reuters\")\n",
    "nltk.download('brown')"
   ]
  },
  {
   "cell_type": "code",
   "execution_count": 4,
   "metadata": {},
   "outputs": [
    {
     "data": {
      "text/plain": [
       "[['plot', ':', 'two', 'teen', 'couples', 'go', 'to', 'a', 'church', 'party', ',', 'drink', 'and', 'then', 'drive', '.'], ['they', 'get', 'into', 'an', 'accident', '.'], ...]"
      ]
     },
     "execution_count": 4,
     "metadata": {},
     "output_type": "execute_result"
    }
   ],
   "source": [
    "movie_reviews.sents()"
   ]
  },
  {
   "cell_type": "code",
   "execution_count": 5,
   "metadata": {},
   "outputs": [
    {
     "data": {
      "text/plain": [
       "['plot', ':', 'two', 'teen', 'couples', 'go', 'to', ...]"
      ]
     },
     "execution_count": 5,
     "metadata": {},
     "output_type": "execute_result"
    }
   ],
   "source": [
    "movie_reviews.words()"
   ]
  },
  {
   "cell_type": "code",
   "execution_count": 6,
   "metadata": {},
   "outputs": [],
   "source": [
    "ques_data = [\"Mr Patrick is our new principle\",\n",
    "            \"The company excepted all the terms\",\n",
    "            \"Please don't keep your dog on the lose\",\n",
    "            \"The later is my best friend\",\n",
    "            \"I need some stationary products for my craftwork\",\n",
    "            \"The actor excepted the Oscar\",\n",
    "            \"I will call you later in the evening\",\n",
    "            \"Covid affects the lungs\",\n",
    "            \"The council of the ministers were sworn in yesterday\",\n",
    "            \"Robert too wants to accompany us to the park\",\n",
    "            \"Mia will council me about choosing fashion as my career\", \n",
    "            \"The bear at the zoo was very playful\",\n",
    "            \"The sheep have a lot of fur that keeps them warm\",\n",
    "            \"The hot spring is at the furthest corner of the street\",\n",
    "            \"Can you advice me on how to study for exams\",\n",
    "            \"The team will loose the match if they don't play well\",\n",
    "            \"Can you go to the market for me\"\n",
    "            ,\"The teachers asked the students to keep quite\", \n",
    "            \"The heap of garbage should be cleaned immediately\",\n",
    "            \"This is there house\",\n",
    "            \"Mr Patrick is our new principal\",\n",
    "            \"The company accepted all the terms\",\n",
    "            \"Please don't keep your dog on the loose\",\n",
    "            \"The latter is my best friend\",\n",
    "            \"I need some stationery products for my craftwork\",\n",
    "            \"The actor accepted the Oscar\",\n",
    "            \"I will call you later in the evening\",\n",
    "            \"Covid affects the lungs\",\n",
    "            \"The council of the ministers were sworn in yesterday\",\n",
    "            \"Robert too wants to accompany us to the park\",\n",
    "            \"Mia will counsel me about choosing fashion as my career\", \n",
    "            \"The bear at the zoo was very playful\",\n",
    "            \"The sheep have a lot of fur that keeps them warm\",\n",
    "            \"The hot spring is at the farthest corner of the street\",\n",
    "            \"Can you advise me on how to study for exams\",\n",
    "            \"The team will lose the match if they don't play wel.\",\n",
    "            \"Can you go to the market for me\",\n",
    "            \"The teachers asked the students to keep quiet\", \n",
    "            \"The heap of garbage should be cleaned immediately\",\n",
    "            \"This is their house\",\"Mr Patrick is our new principal\",\n",
    "            \"The company accepted all the terms\",\n",
    "            \"Please don't keep your dog on the loose\",\n",
    "            \"The latter is my best friend\",\n",
    "            \"I need some stationery products for my craftwork\",\n",
    "            \"The actor accepted the Oscar\",\n",
    "            \"I will call you later in the evening\",\n",
    "            \"Covid affects the lungs\",\n",
    "            \"The council of the ministers were sworn in yesterday\",\n",
    "            \"Robert too wants to accompany us to the park\",\n",
    "            \"Mia will counsel me about choosing fashion as my career\", \n",
    "            \"The bear at the zoo was very playful\",\n",
    "            \"The sheep have a lot of fur that keeps them warm\",\n",
    "            \"The hot spring is at the farthest corner of the street\",\n",
    "            \"Can you advise me on how to study for exams\",\n",
    "            \"The team will lose the match if they don't play well\",\n",
    "            \"Can you go to the market for me\",\n",
    "            \"The teachers asked the students to keep quiet\", \n",
    "            \"The heap of garbage should be cleaned immediately\",\n",
    "            \"This is their house\"]\n"
   ]
  },
  {
   "cell_type": "markdown",
   "metadata": {},
   "source": [
    "why is the same data point taken multiple times"
   ]
  },
  {
   "cell_type": "code",
   "execution_count": 7,
   "metadata": {},
   "outputs": [
    {
     "data": {
      "text/plain": [
       "60"
      ]
     },
     "execution_count": 7,
     "metadata": {},
     "output_type": "execute_result"
    }
   ],
   "source": [
    "len(ques_data)"
   ]
  },
  {
   "cell_type": "code",
   "execution_count": 8,
   "metadata": {},
   "outputs": [
    {
     "data": {
      "text/plain": [
       "120"
      ]
     },
     "execution_count": 8,
     "metadata": {},
     "output_type": "execute_result"
    }
   ],
   "source": [
    "ques_data.extend(ques_data)\n",
    "len(ques_data)"
   ]
  },
  {
   "cell_type": "code",
   "execution_count": 9,
   "metadata": {},
   "outputs": [],
   "source": [
    "ques_words = []\n",
    "for i in ques_data:\n",
    "    ques_words.extend(i.split())"
   ]
  },
  {
   "cell_type": "code",
   "execution_count": 10,
   "metadata": {},
   "outputs": [
    {
     "data": {
      "text/plain": [
       "948"
      ]
     },
     "execution_count": 10,
     "metadata": {},
     "output_type": "execute_result"
    }
   ],
   "source": [
    "len(ques_words)"
   ]
  },
  {
   "cell_type": "code",
   "execution_count": 11,
   "metadata": {},
   "outputs": [],
   "source": [
    "def generate_ngrams(text, n):\n",
    "    n_grams = ngrams(text, n)\n",
    "    return n_grams"
   ]
  },
  {
   "cell_type": "code",
   "execution_count": 12,
   "metadata": {},
   "outputs": [],
   "source": [
    "def build_ngram_model(tokens,n):\n",
    "    n_grams = generate_ngrams(tokens, n)\n",
    "    if n == 3:\n",
    "        conditional_pairs = (((w0,w1),w2) for w0,w1,w2 in n_grams)\n",
    "    if n == 2:\n",
    "        conditional_pairs = n_grams\n",
    "    return nltk.ConditionalFreqDist(conditional_pairs)"
   ]
  },
  {
   "cell_type": "markdown",
   "metadata": {},
   "source": [
    "These are bigrams"
   ]
  },
  {
   "cell_type": "code",
   "execution_count": 13,
   "metadata": {},
   "outputs": [
    {
     "name": "stdout",
     "output_type": "stream",
     "text": [
      "[('T', 'h'), ('h', 'i'), ('i', 's'), ('s', ' '), (' ', 'i'), ('i', 's'), ('s', ' '), (' ', 'm'), ('m', 'y'), ('y', ' '), (' ', 'h'), ('h', 'o'), ('o', 'b'), ('b', 'b'), ('b', 'y')]\n"
     ]
    }
   ],
   "source": [
    "sample = ngrams(\"This is my hobby\", 2)\n",
    "\n",
    "#print to see ngram\n",
    "print(list(sample))"
   ]
  },
  {
   "cell_type": "code",
   "execution_count": 14,
   "metadata": {},
   "outputs": [
    {
     "data": {
      "text/plain": [
       "<ConditionalFreqDist with 0 conditions>"
      ]
     },
     "execution_count": 14,
     "metadata": {},
     "output_type": "execute_result"
    }
   ],
   "source": [
    "nltk.ConditionalFreqDist(sample)"
   ]
  },
  {
   "cell_type": "markdown",
   "metadata": {},
   "source": [
    "These are trigrams"
   ]
  },
  {
   "cell_type": "code",
   "execution_count": 15,
   "metadata": {},
   "outputs": [
    {
     "name": "stdout",
     "output_type": "stream",
     "text": [
      "[('T', 'h', 'i'), ('h', 'i', 's'), ('i', 's', ' '), ('s', ' ', 'i'), (' ', 'i', 's'), ('i', 's', ' '), ('s', ' ', 'm'), (' ', 'm', 'y'), ('m', 'y', ' '), ('y', ' ', 'h'), (' ', 'h', 'o'), ('h', 'o', 'b'), ('o', 'b', 'b'), ('b', 'b', 'y')]\n"
     ]
    }
   ],
   "source": [
    "sample = ngrams(\"This is my hobby\", 3)\n",
    "\n",
    "#print to see ngram\n",
    "print(list(sample))"
   ]
  },
  {
   "cell_type": "markdown",
   "metadata": {},
   "source": [
    "A conditional frequency distribution is a collection of frequency distributions for a sequence of items. Each item has its own frequency distribution, which is conditioned on the item's context."
   ]
  },
  {
   "cell_type": "code",
   "execution_count": 16,
   "metadata": {},
   "outputs": [
    {
     "name": "stdout",
     "output_type": "stream",
     "text": [
      "2\n",
      "2\n"
     ]
    }
   ],
   "source": [
    "conditional_pairs = [('A', '1'), ('A', '2'), ('A', '1'), ('B', '1'), ('B', '2'), ('B', '2')]\n",
    "cfd = nltk.ConditionalFreqDist(conditional_pairs)\n",
    "\n",
    "# This will print the frequency of '1' given 'A'\n",
    "print(cfd['A']['1']) \n",
    "\n",
    "# This will print the frequency of '2' given 'B'\n",
    "print(cfd['B']['2'])"
   ]
  },
  {
   "cell_type": "code",
   "execution_count": 41,
   "metadata": {},
   "outputs": [],
   "source": [
    "def predict_next_word(model, context, word):\n",
    "    \n",
    "    context_tuple = tuple(context.split())\n",
    "    # print(f\"context.split : {context.split()}\")\n",
    "    \n",
    "    if context_tuple in model and word in model[context_tuple]:\n",
    "        # print(f\"model : {model[context_tuple]} and word : {word}\")\n",
    "        # print(f\"model[context_tuple].freq(word) : {model[context_tuple].freq(word)}\")\n",
    "        return model[context_tuple].freq(word)\n",
    "    else:\n",
    "        return 0.0"
   ]
  },
  {
   "cell_type": "code",
   "execution_count": 19,
   "metadata": {},
   "outputs": [
    {
     "name": "stdout",
     "output_type": "stream",
     "text": [
      "4466861\n"
     ]
    }
   ],
   "source": [
    "vocab = brown.words() + movie_reviews.words() + reuters.words() + ques_words\n",
    "print(len(vocab))  "
   ]
  },
  {
   "cell_type": "markdown",
   "metadata": {},
   "source": [
    "## Model"
   ]
  },
  {
   "cell_type": "code",
   "execution_count": 20,
   "metadata": {},
   "outputs": [],
   "source": [
    "tri_model = build_ngram_model(vocab, 3)"
   ]
  },
  {
   "cell_type": "code",
   "execution_count": 21,
   "metadata": {},
   "outputs": [],
   "source": [
    "bi_model = build_ngram_model(vocab, 2)"
   ]
  },
  {
   "cell_type": "code",
   "execution_count": 22,
   "metadata": {},
   "outputs": [
    {
     "data": {
      "text/plain": [
       "FreqDist({'the': 8637, 'be': 5993, 'a': 2487, 'make': 1372, 'see': 1161, 'do': 1126, 'have': 1040, 'get': 989, 'take': 851, 'his': 736, ...})"
      ]
     },
     "execution_count": 22,
     "metadata": {},
     "output_type": "execute_result"
    }
   ],
   "source": [
    "bi_model['to']"
   ]
  },
  {
   "cell_type": "code",
   "execution_count": 24,
   "metadata": {},
   "outputs": [
    {
     "data": {
      "text/plain": [
       "FreqDist({'us': 6, 'him': 4, 'her': 4, 'the': 3, 'his': 3, 'Nakasone': 2, 'family': 1, 'torn': 1, '\"': 1, '.': 1, ...})"
      ]
     },
     "execution_count": 24,
     "metadata": {},
     "output_type": "execute_result"
    }
   ],
   "source": [
    "bi_model['accompany']"
   ]
  },
  {
   "cell_type": "code",
   "execution_count": 30,
   "metadata": {},
   "outputs": [
    {
     "data": {
      "text/plain": [
       "FreqDist({'U': 131, 'film': 93, 'dollar': 75, 'point': 71, 'Soviet': 63, 'United': 63, 'public': 59, 'end': 52, 'company': 45, 'world': 43, ...})"
      ]
     },
     "execution_count": 30,
     "metadata": {},
     "output_type": "execute_result"
    }
   ],
   "source": [
    "tri_model[('to','the')]"
   ]
  },
  {
   "cell_type": "code",
   "execution_count": 27,
   "metadata": {},
   "outputs": [
    {
     "data": {
      "text/plain": [
       "71"
      ]
     },
     "execution_count": 27,
     "metadata": {},
     "output_type": "execute_result"
    }
   ],
   "source": [
    "tri_model[('to','the')]['point']"
   ]
  },
  {
   "cell_type": "code",
   "execution_count": 25,
   "metadata": {},
   "outputs": [
    {
     "data": {
      "text/plain": [
       "0.008220446914437884"
      ]
     },
     "execution_count": 25,
     "metadata": {},
     "output_type": "execute_result"
    }
   ],
   "source": [
    "tri_model[('to','the')].freq('point')"
   ]
  },
  {
   "cell_type": "code",
   "execution_count": 33,
   "metadata": {},
   "outputs": [
    {
     "data": {
      "image/png": "[encoded data removed]",
      "text/plain": [
       "<Figure size 640x480 with 1 Axes>"
      ]
     },
     "metadata": {},
     "output_type": "display_data"
    }
   ],
   "source": [
    "tri_model.plot(conditions=[(\"to\",\"the\")],\n",
    "               samples = ['film',\"U\" ,'face',\"dollar\",\"point\"] );"
   ]
  },
  {
   "cell_type": "markdown",
   "metadata": {},
   "source": [
    "getting the most common words"
   ]
  },
  {
   "cell_type": "code",
   "execution_count": 34,
   "metadata": {},
   "outputs": [
    {
     "data": {
      "text/plain": [
       "[('U', 131), ('film', 93), ('dollar', 75)]"
      ]
     },
     "execution_count": 34,
     "metadata": {},
     "output_type": "execute_result"
    }
   ],
   "source": [
    "tri_model[(\"to\",\"the\")].most_common(3)"
   ]
  },
  {
   "cell_type": "markdown",
   "metadata": {},
   "source": [
    "## Next token prediction"
   ]
  },
  {
   "cell_type": "code",
   "execution_count": 35,
   "metadata": {},
   "outputs": [
    {
     "data": {
      "text/plain": [
       "FreqDist({'principal': 4, 'principle': 2, 'view': 1, 'presses': 1, 'Junior': 1, 'pool': 1, 'carts': 1, 'space': 1, 'plant': 1, 'bosom': 1, ...})"
      ]
     },
     "execution_count": 35,
     "metadata": {},
     "output_type": "execute_result"
    }
   ],
   "source": [
    "tri_model[(\"our\",\"new\")]"
   ]
  },
  {
   "cell_type": "code",
   "execution_count": 38,
   "metadata": {},
   "outputs": [
    {
     "name": "stdout",
     "output_type": "stream",
     "text": [
      "context.split : ['our', 'new']\n",
      "model : <FreqDist with 13 samples and 17 outcomes> and word : principal\n",
      "model[context_tuple].freq(word) : 0.23529411764705882\n",
      "context.split : ['our', 'new']\n",
      "model : <FreqDist with 13 samples and 17 outcomes> and word : principle\n",
      "model[context_tuple].freq(word) : 0.11764705882352941\n",
      "our new principal\n"
     ]
    }
   ],
   "source": [
    "context = \"our new\"\n",
    "word1 = \"principal\"\n",
    "word2 = \"principle\"\n",
    "\n",
    "cfd1 = predict_next_word(tri_model, context, word1)\n",
    "cfd2 = predict_next_word(tri_model, context, word2)\n",
    "\n",
    "if cfd1 > cfd2:\n",
    "    print(f\"{context} {word1}\")\n",
    "else :\n",
    "    print(f\"{context} {word2}\")"
   ]
  },
  {
   "cell_type": "code",
   "execution_count": 39,
   "metadata": {},
   "outputs": [],
   "source": [
    "contexts = [\n",
    "    \"our new\",\n",
    "    \"The company\",\n",
    "    \"on the\",\n",
    "    \"need some\",\n",
    "    \"The actor\",\n",
    "    \"call you\",\n",
    "    \"Mia will\",\n",
    "    \"lot of\",\n",
    "    \"at the\",\n",
    "    \"Can you\",\n",
    "    \"team will\",\n",
    "    \"you go\",\n",
    "    \"to keep\",\n",
    "    \"This is\"\n",
    "]\n",
    "\n",
    "word_options_list = [\n",
    "    [\"principal\", \"principle\"],\n",
    "    [\"excepted\", \"accepted\"],\n",
    "    [\"lose\", \"loose\"],\n",
    "    [\"stationary\", \"stationery\"],\n",
    "    [\"excepted\", \"accepted\"],\n",
    "    [\"later\", \"latter\"],\n",
    "    [\"council\",\"counsel\"],\n",
    "    [\"council\",\"counsel\"],\n",
    "    [\"fur\", \"far\"],\n",
    "    [\"furthest\", \"farthest\"],\n",
    "    [\"advice\", \"advise\"],\n",
    "    [\"loose\", \"lose\"],\n",
    "    [\"to\", \"too\"],\n",
    "    [\"quite\", \"quiet\"],\n",
    "    [\"there\",\"their\"]\n",
    "]"
   ]
  },
  {
   "cell_type": "code",
   "execution_count": 43,
   "metadata": {},
   "outputs": [
    {
     "name": "stdout",
     "output_type": "stream",
     "text": [
      "our new principal\n",
      "The company accepted\n",
      "on the loose\n",
      "need some stationery\n",
      "The actor accepted\n",
      "call you later\n",
      "Mia will counsel\n",
      "lot of counsel\n",
      "at the far\n",
      "Can you farthest\n",
      "team will advise\n",
      "you go lose\n",
      "to keep to\n",
      "This is quiet\n"
     ]
    }
   ],
   "source": [
    "for context, word_options in zip(contexts, word_options_list):\n",
    "    cfd1 = predict_next_word(tri_model, context, word_options[0])\n",
    "    cfd2 = predict_next_word(tri_model, context, word_options[1])\n",
    "    \n",
    "    if cfd1 > cfd2:\n",
    "        print(f\"{context} {word_options[0]}\")\n",
    "    else :\n",
    "        print(f\"{context} {word_options[1]}\")"
   ]
  }
 ],
 "metadata": {
  "kernelspec": {
   "display_name": "nlp",
   "language": "python",
   "name": "python3"
  },
  "language_info": {
   "codemirror_mode": {
    "name": "ipython",
    "version": 3
   },
   "file_extension": ".py",
   "mimetype": "text/x-python",
   "name": "python",
   "nbconvert_exporter": "python",
   "pygments_lexer": "ipython3",
   "version": "3.11.7"
  }
 },
 "nbformat": 4,
 "nbformat_minor": 2
}
