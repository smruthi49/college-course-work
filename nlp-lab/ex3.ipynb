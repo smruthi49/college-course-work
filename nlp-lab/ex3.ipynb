{
 "cells": [
  {
   "cell_type": "markdown",
   "metadata": {},
   "source": [
    "Application: Extractive Text Summarization\\\n",
    "Task:\\\n",
    "▪ Explain the pipeline for summarizing an input document by identifying informative sentences.\\\n",
    "▪ Perform cleaning and preprocessing of text.\\\n",
    "▪ Generate representations using:\\\n",
    "• Bag of Words\\\n",
    "• TF-IDF\\\n",
    "• Continuous Bag of Words\\\n",
    "• Skip gram\\\n",
    "• Word2Vec.\\\n",
    "• GloVe\\\n",
    "• FastText\\\n",
    "▪ Generate representations for each sentence using the above word embedding techniques.\\\n",
    "▪ Identify the distance between each sentence. Evaluate if semantically similar sentences lie\n",
    "closer to each other.\\\n",
    "▪ Explain the impact of embedding techniques in identifying the distance between sentences.\\\n",
    "▪ Which Embedding technique generates contextual representations? Justify.\\\n",
    "Input 1:\\\n",
    "Millions go missing at China bank\n",
    "Two senior officials at one of China's top commercial banks have reportedly disappeared after funds\n",
    "worth up to $120m (£64m) went missing.\n",
    "The pair both worked at Bank of China in the northern city of Harbin, the South China Morning Post\n",
    "reported. The latest scandal at Bank of China will do nothing to reassure foreign investors that China's\n",
    "big four banks are ready for international listings. Government policy sees the bank listings as vital\n",
    "economic reforms. Bank of China is one of two frontrunners in the race to list overseas. The other is\n",
    "China Construction Bank. Both are expected to list abroad during 2005.\n",
    "They shared a $45bn state bailout in 2003, to help clean up their balance sheets in preparation for a\n",
    "foreign stock market debut.\n",
    "However, a report in the China-published Economic Observer said on Monday that the two banks may\n",
    "have scrapped plans to list in New York because of the cost of meeting regulatory requirements\n",
    "imposed since the Enron scandal. Bank of China is the country's biggest foreign exchange dealer, while\n",
    "China Construction Bank is the largest deposit holder. China's banking sector is burdened with at least$190bn of bad debt according to official data, though most observers believe the true figure is far\n",
    "higher. Officially, one in five loans is not being repaid. Attempts to strengthen internal controls and\n",
    "tighten lending policies have uncovered a succession of scandals involving embezzlement by bank\n",
    "officials and loans-for-favours. The most high-profile case involved the ex-president of Bank of China,\n",
    "Wang Xuebing, jailed for 12 years in 2003. Although, he committed the offences whilst running Bank\n",
    "of China in New York, Mr.Wang was head of China Construction Bank when the scandal broke. Earlier\n",
    "this month, a China Construction Bank branch manager was jailed for life in a separate case.\n",
    "China's banks used to act as cash offices for state enterprises and did not require checks on credit\n",
    "worthiness. The introduction of market reforms has been accompanied by attempts to modernize the\n",
    "banking sector, but links between banks and local government remain strong. Last year, China's\n",
    "premier, Wen Jiabao, targeted bank lending practices in a series of speeches, and regulators ordered\n",
    "all big loans to be scrutinized, in an attempt to cool down irresponsible lending. China's leaders see\n",
    "reforming the top four banks as vital to distribute capital to profitable companies and protect the health\n",
    "of China's economic boom. But two problems persist. First, inefficient state enterprises continue to\n",
    "receive protection from bankruptcy because they employ large numbers of people. Second, many\n",
    "questionable loans come not from the big four, but from smaller banks. Another high-profile financial\n",
    "firm, China Life, is facing shareholder lawsuits and a probe by the US Securities and Exchange\n",
    "Commission following its 2004 New York listing over its failure to disclose accounting irregularities\n",
    "at its parent company.\\\n",
    "Expected Summary:\\\n",
    "The other is China Construction Bank. The latest scandal at Bank of China will do nothing to reassure\n",
    "foreign investors that China's big four banks are ready for international listings. Bank of China is the\n",
    "country's biggest foreign exchange dealer, while China Construction Bank is the largest deposit holder.\n",
    "Bank of China is one of two frontrunners in the race to list overseas. Although, he committed the\n",
    "offences whilst running Bank of China in New York, Mr.Wang was head of China Construction Bank\n",
    "when the scandal broke. Earlier this month, a China Construction Bank branch manager was jailed for\n",
    "life in a separate case. The pair both worked at Bank of China in the northern city of Harbin, the South\n",
    "China Morning Post reported. The most high-profile case involved the ex-president of Bank of China,\n",
    "Wang Xuebing, jailed for 12 years in 2003.Two senior officials at one of China's top commercial banks\n",
    "have reportedly disappeared after funds worth up to $120m (£64m) went missing. China’s banks used\n",
    "to act as cash offices for state enterprises and did not require checks on credit worthiness."
   ]
  },
  {
   "cell_type": "code",
   "execution_count": 3,
   "metadata": {},
   "outputs": [],
   "source": [
    "import numpy as np\n",
    "import nltk\n",
    "from nltk.tokenize import word_tokenize,sent_tokenize\n",
    "from sklearn.metrics.pairwise import cosine_similarity\n",
    "from heapq import nlargest\n",
    "from sklearn.feature_extraction.text import TfidfVectorizer\n",
    "import rouge\n",
    "from rouge import Rouge\n",
    "from sklearn.feature_extraction.text import CountVectorizer\n",
    "from gensim.models.word2vec import Word2Vec\n",
    "from gensim.models import KeyedVectors\n",
    "from gensim.models import FastText"
   ]
  },
  {
   "cell_type": "code",
   "execution_count": 4,
   "metadata": {},
   "outputs": [],
   "source": [
    "text = '''\n",
    "Millions go missing at China bank\n",
    "Two senior officials at one of China's top commercial banks have reportedly disappeared after funds\n",
    "worth up to $120m (£64m) went missing.\n",
    "The pair both worked at Bank of China in the northern city of Harbin, the South China Morning Post\n",
    "reported. The latest scandal at Bank of China will do nothing to reassure foreign investors that China's\n",
    "big four banks are ready for international listings. Government policy sees the bank listings as vital\n",
    "economic reforms. Bank of China is one of two frontrunners in the race to list overseas. The other is\n",
    "China Construction Bank. Both are expected to list abroad during 2005.\n",
    "They shared a $45bn state bailout in 2003, to help clean up their balance sheets in preparation for a\n",
    "foreign stock market debut.\n",
    "However, a report in the China-published Economic Observer said on Monday that the two banks may\n",
    "have scrapped plans to list in New York because of the cost of meeting regulatory requirements\n",
    "imposed since the Enron scandal. Bank of China is the country's biggest foreign exchange dealer, while\n",
    "China Construction Bank is the largest deposit holder. China's banking sector is burdened with at least $190bn of bad debt according to official data, though most observers believe the true figure is far\n",
    "higher. Officially, one in five loans is not being repaid. Attempts to strengthen internal controls and\n",
    "tighten lending policies have uncovered a succession of scandals involving embezzlement by bank\n",
    "officials and loans-for-favours. The most high-profile case involved the ex-president of Bank of China,\n",
    "Wang Xuebing, jailed for 12 years in 2003. Although, he committed the offences whilst running Bank\n",
    "of China in New York, Mr.Wang was head of China Construction Bank when the scandal broke. Earlier\n",
    "this month, a China Construction Bank branch manager was jailed for life in a separate case.\n",
    "China's banks used to act as cash offices for state enterprises and did not require checks on credit\n",
    "worthiness. The introduction of market reforms has been accompanied by attempts to modernize the\n",
    "banking sector, but links between banks and local government remain strong. Last year, China's\n",
    "premier, Wen Jiabao, targeted bank lending practices in a series of speeches, and regulators ordered\n",
    "all big loans to be scrutinized, in an attempt to cool down irresponsible lending. China's leaders see\n",
    "reforming the top four banks as vital to distribute capital to profitable companies and protect the health\n",
    "of China's economic boom. But two problems persist. First, inefficient state enterprises continue to\n",
    "receive protection from bankruptcy because they employ large numbers of people. Second, many\n",
    "questionable loans come not from the big four, but from smaller banks. Another high-profile financial\n",
    "firm, China Life, is facing shareholder lawsuits and a probe by the US Securities and Exchange\n",
    "Commission following its 2004 New York listing over its failure to disclose accounting irregularities\n",
    "at its parent company.\n",
    "'''"
   ]
  },
  {
   "cell_type": "code",
   "execution_count": 5,
   "metadata": {},
   "outputs": [],
   "source": [
    "ref = '''\n",
    "The other is China Construction Bank. The latest scandal at Bank of China will do nothing to reassure\n",
    "foreign investors that China's big four banks are ready for international listings. Bank of China is the\n",
    "country's biggest foreign exchange dealer, while China Construction Bank is the largest deposit holder.\n",
    "Bank of China is one of two frontrunners in the race to list overseas. Although, he committed the\n",
    "offences whilst running Bank of China in New York, Mr.Wang was head of China Construction Bank\n",
    "when the scandal broke. Earlier this month, a China Construction Bank branch manager was jailed for\n",
    "life in a separate case. The pair both worked at Bank of China in the northern city of Harbin, the South\n",
    "China Morning Post reported. The most high-profile case involved the ex-president of Bank of China,\n",
    "Wang Xuebing, jailed for 12 years in 2003.Two senior officials at one of China's top commercial banks\n",
    "have reportedly disappeared after funds worth up to $120m (£64m) went missing. China’s banks used\n",
    "to act as cash offices for state enterprises and did not require checks on credit worthiness.'''"
   ]
  },
  {
   "cell_type": "code",
   "execution_count": 15,
   "metadata": {},
   "outputs": [],
   "source": [
    "def generate_summary(text, feature_matrix, n):\n",
    "    sentences = sent_tokenize(text)\n",
    "    sentence_scores = cosine_similarity(feature_matrix[-1], feature_matrix[:-1])[0]\n",
    "    \n",
    "    print(sentence_scores)\n",
    "    summary_sentences = nlargest(n, range(len(sentence_scores)), key=sentence_scores.__getitem__)\n",
    "    summary = ' '.join([sentences[i] for i in sorted(summary_sentences)])\n",
    "    summary = summary.split('. ')\n",
    "    formatted_summary = '.\\n'.join(summary)\n",
    "    return formatted_summary"
   ]
  },
  {
   "cell_type": "code",
   "execution_count": 16,
   "metadata": {},
   "outputs": [],
   "source": [
    "def calculate_score(ref,generated_summary):\n",
    "    rouge = Rouge()\n",
    "    scores = rouge.get_scores(ref,generated_summary)\n",
    "    score = scores[0]['rouge-1']['f']\n",
    "    return score"
   ]
  },
  {
   "cell_type": "markdown",
   "metadata": {},
   "source": [
    "### Bag of words"
   ]
  },
  {
   "cell_type": "code",
   "execution_count": 17,
   "metadata": {},
   "outputs": [
    {
     "name": "stdout",
     "output_type": "stream",
     "text": [
      "(24, 272)\n"
     ]
    }
   ],
   "source": [
    "cv = CountVectorizer()\n",
    "count_matrix = cv.fit_transform(sent_tokenize(text))\n",
    "print(f\"{count_matrix.toarray().shape}\")"
   ]
  },
  {
   "cell_type": "code",
   "execution_count": 18,
   "metadata": {},
   "outputs": [
    {
     "name": "stdout",
     "output_type": "stream",
     "text": [
      "[0.1278275  0.16329932 0.14617634 0.04714045 0.1490712  0.18257419\n",
      " 0.05270463 0.03108349 0.16381203 0.20082136 0.16903085 0.0496904\n",
      " 0.17888544 0.1490712  0.15569979 0.07698004 0.13679711 0.1754116\n",
      " 0.12253577 0.21773242 0.         0.03615508 0.0372678 ]\n"
     ]
    }
   ],
   "source": [
    "bow_summary = generate_summary(text,count_matrix,11)"
   ]
  },
  {
   "cell_type": "code",
   "execution_count": 20,
   "metadata": {},
   "outputs": [
    {
     "name": "stdout",
     "output_type": "stream",
     "text": [
      "The pair both worked at Bank of China in the northern city of Harbin, the South China Morning Post\n",
      "reported.\n",
      "Bank of China is one of two frontrunners in the race to list overseas.\n",
      "The other is\n",
      "China Construction Bank.\n",
      "However, a report in the China-published Economic Observer said on Monday that the two banks may\n",
      "have scrapped plans to list in New York because of the cost of meeting regulatory requirements\n",
      "imposed since the Enron scandal.\n",
      "Bank of China is the country's biggest foreign exchange dealer, while\n",
      "China Construction Bank is the largest deposit holder.\n",
      "China's banking sector is burdened with at least $190bn of bad debt according to official data, though most observers believe the true figure is far\n",
      "higher.\n",
      "Attempts to strengthen internal controls and\n",
      "tighten lending policies have uncovered a succession of scandals involving embezzlement by bank\n",
      "officials and loans-for-favours.\n",
      "The most high-profile case involved the ex-president of Bank of China,\n",
      "Wang Xuebing, jailed for 12 years in 2003.\n",
      "Although, he committed the offences whilst running Bank\n",
      "of China in New York, Mr.Wang was head of China Construction Bank when the scandal broke.\n",
      "The introduction of market reforms has been accompanied by attempts to modernize the\n",
      "banking sector, but links between banks and local government remain strong.\n",
      "China's leaders see\n",
      "reforming the top four banks as vital to distribute capital to profitable companies and protect the health\n",
      "of China's economic boom.\n"
     ]
    }
   ],
   "source": [
    "print(bow_summary)"
   ]
  },
  {
   "cell_type": "code",
   "execution_count": 21,
   "metadata": {},
   "outputs": [
    {
     "name": "stdout",
     "output_type": "stream",
     "text": [
      "Rouge Score for BOW: 0.5441176421464101\n"
     ]
    }
   ],
   "source": [
    "bow_score = calculate_score(ref,bow_summary)\n",
    "print(f\"Rouge Score for BOW: {bow_score}\")"
   ]
  },
  {
   "cell_type": "markdown",
   "metadata": {},
   "source": [
    "### TFIDF"
   ]
  },
  {
   "cell_type": "code",
   "execution_count": 22,
   "metadata": {},
   "outputs": [
    {
     "name": "stdout",
     "output_type": "stream",
     "text": [
      "(24, 209)\n"
     ]
    }
   ],
   "source": [
    "tfidf = TfidfVectorizer(stop_words='english')\n",
    "tfidf_matrix = tfidf.fit_transform(sent_tokenize(text))\n",
    "print(f\"{tfidf_matrix.shape}\")"
   ]
  },
  {
   "cell_type": "code",
   "execution_count": 23,
   "metadata": {},
   "outputs": [
    {
     "name": "stdout",
     "output_type": "stream",
     "text": [
      "[0.01808131 0.02302645 0.02416757 0.         0.0180305  0.03742863\n",
      " 0.         0.         0.07669682 0.07806186 0.00943394 0.\n",
      " 0.         0.11211433 0.1018688  0.0711365  0.01093595 0.\n",
      " 0.00837097 0.02138517 0.         0.         0.        ]\n"
     ]
    }
   ],
   "source": [
    "tf_idf_summary = generate_summary(text,tfidf_matrix,10)"
   ]
  },
  {
   "cell_type": "code",
   "execution_count": 24,
   "metadata": {},
   "outputs": [
    {
     "name": "stdout",
     "output_type": "stream",
     "text": [
      "\n",
      "Millions go missing at China bank\n",
      "Two senior officials at one of China's top commercial banks have reportedly disappeared after funds\n",
      "worth up to $120m (£64m) went missing.\n",
      "The pair both worked at Bank of China in the northern city of Harbin, the South China Morning Post\n",
      "reported.\n",
      "The latest scandal at Bank of China will do nothing to reassure foreign investors that China's\n",
      "big four banks are ready for international listings.\n",
      "The other is\n",
      "China Construction Bank.\n",
      "However, a report in the China-published Economic Observer said on Monday that the two banks may\n",
      "have scrapped plans to list in New York because of the cost of meeting regulatory requirements\n",
      "imposed since the Enron scandal.\n",
      "Bank of China is the country's biggest foreign exchange dealer, while\n",
      "China Construction Bank is the largest deposit holder.\n",
      "The most high-profile case involved the ex-president of Bank of China,\n",
      "Wang Xuebing, jailed for 12 years in 2003.\n",
      "Although, he committed the offences whilst running Bank\n",
      "of China in New York, Mr.Wang was head of China Construction Bank when the scandal broke.\n",
      "Earlier\n",
      "this month, a China Construction Bank branch manager was jailed for life in a separate case.\n",
      "China's leaders see\n",
      "reforming the top four banks as vital to distribute capital to profitable companies and protect the health\n",
      "of China's economic boom.\n"
     ]
    }
   ],
   "source": [
    "print(tf_idf_summary)"
   ]
  },
  {
   "cell_type": "code",
   "execution_count": 25,
   "metadata": {},
   "outputs": [
    {
     "name": "stdout",
     "output_type": "stream",
     "text": [
      "Rouge Score for TF-IDF: 0.8031496013243228\n"
     ]
    }
   ],
   "source": [
    "tf_idf_score = calculate_score(ref,tf_idf_summary)\n",
    "print(f\"Rouge Score for TF-IDF: {tf_idf_score}\")"
   ]
  },
  {
   "cell_type": "markdown",
   "metadata": {},
   "source": [
    "### CBOW"
   ]
  },
  {
   "cell_type": "code",
   "execution_count": 26,
   "metadata": {},
   "outputs": [],
   "source": [
    "from nltk.corpus import stopwords"
   ]
  },
  {
   "cell_type": "code",
   "execution_count": 27,
   "metadata": {},
   "outputs": [],
   "source": [
    "new_text = \"\"\n",
    "for i in word_tokenize(text):\n",
    "    if i not in stopwords.words('english'):\n",
    "        new_text+=i\n",
    "        new_text+=\" \""
   ]
  },
  {
   "cell_type": "code",
   "execution_count": 28,
   "metadata": {},
   "outputs": [],
   "source": [
    "cbow = Word2Vec(sent_tokenize(new_text),vector_size=100, window=5, min_count=2, sg=0)\n",
    "vocab = cbow.wv.index_to_key"
   ]
  },
  {
   "cell_type": "code",
   "execution_count": 29,
   "metadata": {},
   "outputs": [],
   "source": [
    "def get_mean_vector(model, sentence):\n",
    "    words = [word for word in sentence if word in vocab]\n",
    "    if len(words) >= 1:\n",
    "        return np.mean(model.wv[words], axis=0)\n",
    "    return np.zeros((100,))\n",
    "\n",
    "cbow_array = []\n",
    "for sentence in sent_tokenize(new_text):\n",
    "    cbow_array.append(get_mean_vector(cbow, sentence))\n",
    "    \n",
    "cbow_array = np.array(cbow_array)"
   ]
  },
  {
   "cell_type": "code",
   "execution_count": 30,
   "metadata": {},
   "outputs": [
    {
     "data": {
      "text/plain": [
       "(24, 100)"
      ]
     },
     "execution_count": 30,
     "metadata": {},
     "output_type": "execute_result"
    }
   ],
   "source": [
    "cbow_array.shape"
   ]
  },
  {
   "cell_type": "code",
   "execution_count": 31,
   "metadata": {},
   "outputs": [
    {
     "data": {
      "text/html": [
       "<style>#sk-container-id-1 {\n",
       "  /* Definition of color scheme common for light and dark mode */\n",
       "  --sklearn-color-text: black;\n",
       "  --sklearn-color-line: gray;\n",
       "  /* Definition of color scheme for unfitted estimators */\n",
       "  --sklearn-color-unfitted-level-0: #fff5e6;\n",
       "  --sklearn-color-unfitted-level-1: #f6e4d2;\n",
       "  --sklearn-color-unfitted-level-2: #ffe0b3;\n",
       "  --sklearn-color-unfitted-level-3: chocolate;\n",
       "  /* Definition of color scheme for fitted estimators */\n",
       "  --sklearn-color-fitted-level-0: #f0f8ff;\n",
       "  --sklearn-color-fitted-level-1: #d4ebff;\n",
       "  --sklearn-color-fitted-level-2: #b3dbfd;\n",
       "  --sklearn-color-fitted-level-3: cornflowerblue;\n",
       "\n",
       "  /* Specific color for light theme */\n",
       "  --sklearn-color-text-on-default-background: var(--sg-text-color, var(--theme-code-foreground, var(--jp-content-font-color1, black)));\n",
       "  --sklearn-color-background: var(--sg-background-color, var(--theme-background, var(--jp-layout-color0, white)));\n",
       "  --sklearn-color-border-box: var(--sg-text-color, var(--theme-code-foreground, var(--jp-content-font-color1, black)));\n",
       "  --sklearn-color-icon: #696969;\n",
       "\n",
       "  @media (prefers-color-scheme: dark) {\n",
       "    /* Redefinition of color scheme for dark theme */\n",
       "    --sklearn-color-text-on-default-background: var(--sg-text-color, var(--theme-code-foreground, var(--jp-content-font-color1, white)));\n",
       "    --sklearn-color-background: var(--sg-background-color, var(--theme-background, var(--jp-layout-color0, #111)));\n",
       "    --sklearn-color-border-box: var(--sg-text-color, var(--theme-code-foreground, var(--jp-content-font-color1, white)));\n",
       "    --sklearn-color-icon: #878787;\n",
       "  }\n",
       "}\n",
       "\n",
       "#sk-container-id-1 {\n",
       "  color: var(--sklearn-color-text);\n",
       "}\n",
       "\n",
       "#sk-container-id-1 pre {\n",
       "  padding: 0;\n",
       "}\n",
       "\n",
       "#sk-container-id-1 input.sk-hidden--visually {\n",
       "  border: 0;\n",
       "  clip: rect(1px 1px 1px 1px);\n",
       "  clip: rect(1px, 1px, 1px, 1px);\n",
       "  height: 1px;\n",
       "  margin: -1px;\n",
       "  overflow: hidden;\n",
       "  padding: 0;\n",
       "  position: absolute;\n",
       "  width: 1px;\n",
       "}\n",
       "\n",
       "#sk-container-id-1 div.sk-dashed-wrapped {\n",
       "  border: 1px dashed var(--sklearn-color-line);\n",
       "  margin: 0 0.4em 0.5em 0.4em;\n",
       "  box-sizing: border-box;\n",
       "  padding-bottom: 0.4em;\n",
       "  background-color: var(--sklearn-color-background);\n",
       "}\n",
       "\n",
       "#sk-container-id-1 div.sk-container {\n",
       "  /* jupyter's `normalize.less` sets `[hidden] { display: none; }`\n",
       "     but bootstrap.min.css set `[hidden] { display: none !important; }`\n",
       "     so we also need the `!important` here to be able to override the\n",
       "     default hidden behavior on the sphinx rendered scikit-learn.org.\n",
       "     See: https://github.com/scikit-learn/scikit-learn/issues/21755 */\n",
       "  display: inline-block !important;\n",
       "  position: relative;\n",
       "}\n",
       "\n",
       "#sk-container-id-1 div.sk-text-repr-fallback {\n",
       "  display: none;\n",
       "}\n",
       "\n",
       "div.sk-parallel-item,\n",
       "div.sk-serial,\n",
       "div.sk-item {\n",
       "  /* draw centered vertical line to link estimators */\n",
       "  background-image: linear-gradient(var(--sklearn-color-text-on-default-background), var(--sklearn-color-text-on-default-background));\n",
       "  background-size: 2px 100%;\n",
       "  background-repeat: no-repeat;\n",
       "  background-position: center center;\n",
       "}\n",
       "\n",
       "/* Parallel-specific style estimator block */\n",
       "\n",
       "#sk-container-id-1 div.sk-parallel-item::after {\n",
       "  content: \"\";\n",
       "  width: 100%;\n",
       "  border-bottom: 2px solid var(--sklearn-color-text-on-default-background);\n",
       "  flex-grow: 1;\n",
       "}\n",
       "\n",
       "#sk-container-id-1 div.sk-parallel {\n",
       "  display: flex;\n",
       "  align-items: stretch;\n",
       "  justify-content: center;\n",
       "  background-color: var(--sklearn-color-background);\n",
       "  position: relative;\n",
       "}\n",
       "\n",
       "#sk-container-id-1 div.sk-parallel-item {\n",
       "  display: flex;\n",
       "  flex-direction: column;\n",
       "}\n",
       "\n",
       "#sk-container-id-1 div.sk-parallel-item:first-child::after {\n",
       "  align-self: flex-end;\n",
       "  width: 50%;\n",
       "}\n",
       "\n",
       "#sk-container-id-1 div.sk-parallel-item:last-child::after {\n",
       "  align-self: flex-start;\n",
       "  width: 50%;\n",
       "}\n",
       "\n",
       "#sk-container-id-1 div.sk-parallel-item:only-child::after {\n",
       "  width: 0;\n",
       "}\n",
       "\n",
       "/* Serial-specific style estimator block */\n",
       "\n",
       "#sk-container-id-1 div.sk-serial {\n",
       "  display: flex;\n",
       "  flex-direction: column;\n",
       "  align-items: center;\n",
       "  background-color: var(--sklearn-color-background);\n",
       "  padding-right: 1em;\n",
       "  padding-left: 1em;\n",
       "}\n",
       "\n",
       "\n",
       "/* Toggleable style: style used for estimator/Pipeline/ColumnTransformer box that is\n",
       "clickable and can be expanded/collapsed.\n",
       "- Pipeline and ColumnTransformer use this feature and define the default style\n",
       "- Estimators will overwrite some part of the style using the `sk-estimator` class\n",
       "*/\n",
       "\n",
       "/* Pipeline and ColumnTransformer style (default) */\n",
       "\n",
       "#sk-container-id-1 div.sk-toggleable {\n",
       "  /* Default theme specific background. It is overwritten whether we have a\n",
       "  specific estimator or a Pipeline/ColumnTransformer */\n",
       "  background-color: var(--sklearn-color-background);\n",
       "}\n",
       "\n",
       "/* Toggleable label */\n",
       "#sk-container-id-1 label.sk-toggleable__label {\n",
       "  cursor: pointer;\n",
       "  display: block;\n",
       "  width: 100%;\n",
       "  margin-bottom: 0;\n",
       "  padding: 0.5em;\n",
       "  box-sizing: border-box;\n",
       "  text-align: center;\n",
       "}\n",
       "\n",
       "#sk-container-id-1 label.sk-toggleable__label-arrow:before {\n",
       "  /* Arrow on the left of the label */\n",
       "  content: \"▸\";\n",
       "  float: left;\n",
       "  margin-right: 0.25em;\n",
       "  color: var(--sklearn-color-icon);\n",
       "}\n",
       "\n",
       "#sk-container-id-1 label.sk-toggleable__label-arrow:hover:before {\n",
       "  color: var(--sklearn-color-text);\n",
       "}\n",
       "\n",
       "/* Toggleable content - dropdown */\n",
       "\n",
       "#sk-container-id-1 div.sk-toggleable__content {\n",
       "  max-height: 0;\n",
       "  max-width: 0;\n",
       "  overflow: hidden;\n",
       "  text-align: left;\n",
       "  /* unfitted */\n",
       "  background-color: var(--sklearn-color-unfitted-level-0);\n",
       "}\n",
       "\n",
       "#sk-container-id-1 div.sk-toggleable__content.fitted {\n",
       "  /* fitted */\n",
       "  background-color: var(--sklearn-color-fitted-level-0);\n",
       "}\n",
       "\n",
       "#sk-container-id-1 div.sk-toggleable__content pre {\n",
       "  margin: 0.2em;\n",
       "  border-radius: 0.25em;\n",
       "  color: var(--sklearn-color-text);\n",
       "  /* unfitted */\n",
       "  background-color: var(--sklearn-color-unfitted-level-0);\n",
       "}\n",
       "\n",
       "#sk-container-id-1 div.sk-toggleable__content.fitted pre {\n",
       "  /* unfitted */\n",
       "  background-color: var(--sklearn-color-fitted-level-0);\n",
       "}\n",
       "\n",
       "#sk-container-id-1 input.sk-toggleable__control:checked~div.sk-toggleable__content {\n",
       "  /* Expand drop-down */\n",
       "  max-height: 200px;\n",
       "  max-width: 100%;\n",
       "  overflow: auto;\n",
       "}\n",
       "\n",
       "#sk-container-id-1 input.sk-toggleable__control:checked~label.sk-toggleable__label-arrow:before {\n",
       "  content: \"▾\";\n",
       "}\n",
       "\n",
       "/* Pipeline/ColumnTransformer-specific style */\n",
       "\n",
       "#sk-container-id-1 div.sk-label input.sk-toggleable__control:checked~label.sk-toggleable__label {\n",
       "  color: var(--sklearn-color-text);\n",
       "  background-color: var(--sklearn-color-unfitted-level-2);\n",
       "}\n",
       "\n",
       "#sk-container-id-1 div.sk-label.fitted input.sk-toggleable__control:checked~label.sk-toggleable__label {\n",
       "  background-color: var(--sklearn-color-fitted-level-2);\n",
       "}\n",
       "\n",
       "/* Estimator-specific style */\n",
       "\n",
       "/* Colorize estimator box */\n",
       "#sk-container-id-1 div.sk-estimator input.sk-toggleable__control:checked~label.sk-toggleable__label {\n",
       "  /* unfitted */\n",
       "  background-color: var(--sklearn-color-unfitted-level-2);\n",
       "}\n",
       "\n",
       "#sk-container-id-1 div.sk-estimator.fitted input.sk-toggleable__control:checked~label.sk-toggleable__label {\n",
       "  /* fitted */\n",
       "  background-color: var(--sklearn-color-fitted-level-2);\n",
       "}\n",
       "\n",
       "#sk-container-id-1 div.sk-label label.sk-toggleable__label,\n",
       "#sk-container-id-1 div.sk-label label {\n",
       "  /* The background is the default theme color */\n",
       "  color: var(--sklearn-color-text-on-default-background);\n",
       "}\n",
       "\n",
       "/* On hover, darken the color of the background */\n",
       "#sk-container-id-1 div.sk-label:hover label.sk-toggleable__label {\n",
       "  color: var(--sklearn-color-text);\n",
       "  background-color: var(--sklearn-color-unfitted-level-2);\n",
       "}\n",
       "\n",
       "/* Label box, darken color on hover, fitted */\n",
       "#sk-container-id-1 div.sk-label.fitted:hover label.sk-toggleable__label.fitted {\n",
       "  color: var(--sklearn-color-text);\n",
       "  background-color: var(--sklearn-color-fitted-level-2);\n",
       "}\n",
       "\n",
       "/* Estimator label */\n",
       "\n",
       "#sk-container-id-1 div.sk-label label {\n",
       "  font-family: monospace;\n",
       "  font-weight: bold;\n",
       "  display: inline-block;\n",
       "  line-height: 1.2em;\n",
       "}\n",
       "\n",
       "#sk-container-id-1 div.sk-label-container {\n",
       "  text-align: center;\n",
       "}\n",
       "\n",
       "/* Estimator-specific */\n",
       "#sk-container-id-1 div.sk-estimator {\n",
       "  font-family: monospace;\n",
       "  border: 1px dotted var(--sklearn-color-border-box);\n",
       "  border-radius: 0.25em;\n",
       "  box-sizing: border-box;\n",
       "  margin-bottom: 0.5em;\n",
       "  /* unfitted */\n",
       "  background-color: var(--sklearn-color-unfitted-level-0);\n",
       "}\n",
       "\n",
       "#sk-container-id-1 div.sk-estimator.fitted {\n",
       "  /* fitted */\n",
       "  background-color: var(--sklearn-color-fitted-level-0);\n",
       "}\n",
       "\n",
       "/* on hover */\n",
       "#sk-container-id-1 div.sk-estimator:hover {\n",
       "  /* unfitted */\n",
       "  background-color: var(--sklearn-color-unfitted-level-2);\n",
       "}\n",
       "\n",
       "#sk-container-id-1 div.sk-estimator.fitted:hover {\n",
       "  /* fitted */\n",
       "  background-color: var(--sklearn-color-fitted-level-2);\n",
       "}\n",
       "\n",
       "/* Specification for estimator info (e.g. \"i\" and \"?\") */\n",
       "\n",
       "/* Common style for \"i\" and \"?\" */\n",
       "\n",
       ".sk-estimator-doc-link,\n",
       "a:link.sk-estimator-doc-link,\n",
       "a:visited.sk-estimator-doc-link {\n",
       "  float: right;\n",
       "  font-size: smaller;\n",
       "  line-height: 1em;\n",
       "  font-family: monospace;\n",
       "  background-color: var(--sklearn-color-background);\n",
       "  border-radius: 1em;\n",
       "  height: 1em;\n",
       "  width: 1em;\n",
       "  text-decoration: none !important;\n",
       "  margin-left: 1ex;\n",
       "  /* unfitted */\n",
       "  border: var(--sklearn-color-unfitted-level-1) 1pt solid;\n",
       "  color: var(--sklearn-color-unfitted-level-1);\n",
       "}\n",
       "\n",
       ".sk-estimator-doc-link.fitted,\n",
       "a:link.sk-estimator-doc-link.fitted,\n",
       "a:visited.sk-estimator-doc-link.fitted {\n",
       "  /* fitted */\n",
       "  border: var(--sklearn-color-fitted-level-1) 1pt solid;\n",
       "  color: var(--sklearn-color-fitted-level-1);\n",
       "}\n",
       "\n",
       "/* On hover */\n",
       "div.sk-estimator:hover .sk-estimator-doc-link:hover,\n",
       ".sk-estimator-doc-link:hover,\n",
       "div.sk-label-container:hover .sk-estimator-doc-link:hover,\n",
       ".sk-estimator-doc-link:hover {\n",
       "  /* unfitted */\n",
       "  background-color: var(--sklearn-color-unfitted-level-3);\n",
       "  color: var(--sklearn-color-background);\n",
       "  text-decoration: none;\n",
       "}\n",
       "\n",
       "div.sk-estimator.fitted:hover .sk-estimator-doc-link.fitted:hover,\n",
       ".sk-estimator-doc-link.fitted:hover,\n",
       "div.sk-label-container:hover .sk-estimator-doc-link.fitted:hover,\n",
       ".sk-estimator-doc-link.fitted:hover {\n",
       "  /* fitted */\n",
       "  background-color: var(--sklearn-color-fitted-level-3);\n",
       "  color: var(--sklearn-color-background);\n",
       "  text-decoration: none;\n",
       "}\n",
       "\n",
       "/* Span, style for the box shown on hovering the info icon */\n",
       ".sk-estimator-doc-link span {\n",
       "  display: none;\n",
       "  z-index: 9999;\n",
       "  position: relative;\n",
       "  font-weight: normal;\n",
       "  right: .2ex;\n",
       "  padding: .5ex;\n",
       "  margin: .5ex;\n",
       "  width: min-content;\n",
       "  min-width: 20ex;\n",
       "  max-width: 50ex;\n",
       "  color: var(--sklearn-color-text);\n",
       "  box-shadow: 2pt 2pt 4pt #999;\n",
       "  /* unfitted */\n",
       "  background: var(--sklearn-color-unfitted-level-0);\n",
       "  border: .5pt solid var(--sklearn-color-unfitted-level-3);\n",
       "}\n",
       "\n",
       ".sk-estimator-doc-link.fitted span {\n",
       "  /* fitted */\n",
       "  background: var(--sklearn-color-fitted-level-0);\n",
       "  border: var(--sklearn-color-fitted-level-3);\n",
       "}\n",
       "\n",
       ".sk-estimator-doc-link:hover span {\n",
       "  display: block;\n",
       "}\n",
       "\n",
       "/* \"?\"-specific style due to the `<a>` HTML tag */\n",
       "\n",
       "#sk-container-id-1 a.estimator_doc_link {\n",
       "  float: right;\n",
       "  font-size: 1rem;\n",
       "  line-height: 1em;\n",
       "  font-family: monospace;\n",
       "  background-color: var(--sklearn-color-background);\n",
       "  border-radius: 1rem;\n",
       "  height: 1rem;\n",
       "  width: 1rem;\n",
       "  text-decoration: none;\n",
       "  /* unfitted */\n",
       "  color: var(--sklearn-color-unfitted-level-1);\n",
       "  border: var(--sklearn-color-unfitted-level-1) 1pt solid;\n",
       "}\n",
       "\n",
       "#sk-container-id-1 a.estimator_doc_link.fitted {\n",
       "  /* fitted */\n",
       "  border: var(--sklearn-color-fitted-level-1) 1pt solid;\n",
       "  color: var(--sklearn-color-fitted-level-1);\n",
       "}\n",
       "\n",
       "/* On hover */\n",
       "#sk-container-id-1 a.estimator_doc_link:hover {\n",
       "  /* unfitted */\n",
       "  background-color: var(--sklearn-color-unfitted-level-3);\n",
       "  color: var(--sklearn-color-background);\n",
       "  text-decoration: none;\n",
       "}\n",
       "\n",
       "#sk-container-id-1 a.estimator_doc_link.fitted:hover {\n",
       "  /* fitted */\n",
       "  background-color: var(--sklearn-color-fitted-level-3);\n",
       "}\n",
       "</style><div id=\"sk-container-id-1\" class=\"sk-top-container\"><div class=\"sk-text-repr-fallback\"><pre>NearestNeighbors(algorithm=&#x27;brute&#x27;, metric=&#x27;cosine&#x27;, n_jobs=-1, n_neighbors=10)</pre><b>In a Jupyter environment, please rerun this cell to show the HTML representation or trust the notebook. <br />On GitHub, the HTML representation is unable to render, please try loading this page with nbviewer.org.</b></div><div class=\"sk-container\" hidden><div class=\"sk-item\"><div class=\"sk-estimator fitted sk-toggleable\"><input class=\"sk-toggleable__control sk-hidden--visually\" id=\"sk-estimator-id-1\" type=\"checkbox\" checked><label for=\"sk-estimator-id-1\" class=\"sk-toggleable__label fitted sk-toggleable__label-arrow fitted\">&nbsp;&nbsp;NearestNeighbors<a class=\"sk-estimator-doc-link fitted\" rel=\"noreferrer\" target=\"_blank\" href=\"https://scikit-learn.org/1.4/modules/generated/sklearn.neighbors.NearestNeighbors.html\">?<span>Documentation for NearestNeighbors</span></a><span class=\"sk-estimator-doc-link fitted\">i<span>Fitted</span></span></label><div class=\"sk-toggleable__content fitted\"><pre>NearestNeighbors(algorithm=&#x27;brute&#x27;, metric=&#x27;cosine&#x27;, n_jobs=-1, n_neighbors=10)</pre></div> </div></div></div></div>"
      ],
      "text/plain": [
       "NearestNeighbors(algorithm='brute', metric='cosine', n_jobs=-1, n_neighbors=10)"
      ]
     },
     "execution_count": 31,
     "metadata": {},
     "output_type": "execute_result"
    }
   ],
   "source": [
    "from sklearn.neighbors import NearestNeighbors\n",
    "model = NearestNeighbors(n_neighbors=10,\n",
    "                         metric='cosine',\n",
    "                         algorithm='brute',\n",
    "                         n_jobs=-1)\n",
    "model.fit(cbow_array)"
   ]
  },
  {
   "cell_type": "code",
   "execution_count": 32,
   "metadata": {},
   "outputs": [],
   "source": [
    "distances, indices = model.kneighbors(cbow_array)"
   ]
  },
  {
   "cell_type": "code",
   "execution_count": 33,
   "metadata": {},
   "outputs": [],
   "source": [
    "extractive_summary = []\n",
    "\n",
    "for i in range(len(cbow_array)):\n",
    "    neighbors_indices = indices[i][1:]  # Exclude the document itself\n",
    "    summary_embedding = np.mean(cbow_array[neighbors_indices], axis=0)\n",
    "    extractive_summary.append(summary_embedding)\n",
    "\n",
    "extractive_summary = np.array(extractive_summary)"
   ]
  },
  {
   "cell_type": "code",
   "execution_count": 34,
   "metadata": {},
   "outputs": [],
   "source": [
    "top_10_summaries_indices = np.argsort(distances.sum(axis=1))[:10]\n",
    "top_10_summaries = extractive_summary[top_10_summaries_indices]"
   ]
  },
  {
   "cell_type": "code",
   "execution_count": 35,
   "metadata": {},
   "outputs": [],
   "source": [
    "top_10_sentences = [sent_tokenize(new_text)[index] for index in top_10_summaries_indices]"
   ]
  },
  {
   "cell_type": "code",
   "execution_count": 38,
   "metadata": {},
   "outputs": [
    {
     "data": {
      "text/plain": [
       "\"Bank China country 's biggest foreign exchange dealer , China Construction Bank largest deposit holder ..China 's leaders see reforming top four banks vital distribute capital profitable companies protect health China 's economic boom ..However , report China-published Economic Observer said Monday two banks may scrapped plans list New York cost meeting regulatory requirements imposed since Enron scandal ..Last year , China's premier , Wen Jiabao , targeted bank lending practices series speeches , regulators ordered big loans scrutinized , attempt cool irresponsible lending ..The introduction market reforms accompanied attempts modernize banking sector , links banks local government remain strong ..Earlier month , China Construction Bank branch manager jailed life separate case ..Another high-profile financial firm , China Life , facing shareholder lawsuits probe US Securities Exchange Commission following 2004 New York listing failure disclose accounting irregularities parent company ..China 's banking sector burdened least $ 190bn bad debt according official data , though observers believe true figure far higher ..Bank China one two frontrunners race list overseas ..The latest scandal Bank China nothing reassure foreign investors China's big four banks ready international listings .\""
      ]
     },
     "execution_count": 38,
     "metadata": {},
     "output_type": "execute_result"
    }
   ],
   "source": [
    "'.'.join(top_10_sentences)"
   ]
  },
  {
   "cell_type": "code",
   "execution_count": 39,
   "metadata": {},
   "outputs": [],
   "source": [
    "cbow_summary = ' '.join([sent_tokenize(new_text)[i] for i in sorted(top_10_summaries_indices)])"
   ]
  },
  {
   "cell_type": "code",
   "execution_count": 40,
   "metadata": {},
   "outputs": [
    {
     "data": {
      "text/plain": [
       "\"The latest scandal Bank China nothing reassure foreign investors China's big four banks ready international listings . Bank China one two frontrunners race list overseas . However , report China-published Economic Observer said Monday two banks may scrapped plans list New York cost meeting regulatory requirements imposed since Enron scandal . Bank China country 's biggest foreign exchange dealer , China Construction Bank largest deposit holder . China 's banking sector burdened least $ 190bn bad debt according official data , though observers believe true figure far higher . Earlier month , China Construction Bank branch manager jailed life separate case . The introduction market reforms accompanied attempts modernize banking sector , links banks local government remain strong . Last year , China's premier , Wen Jiabao , targeted bank lending practices series speeches , regulators ordered big loans scrutinized , attempt cool irresponsible lending . China 's leaders see reforming top four banks vital distribute capital profitable companies protect health China 's economic boom . Another high-profile financial firm , China Life , facing shareholder lawsuits probe US Securities Exchange Commission following 2004 New York listing failure disclose accounting irregularities parent company .\""
      ]
     },
     "execution_count": 40,
     "metadata": {},
     "output_type": "execute_result"
    }
   ],
   "source": [
    "cbow_summary"
   ]
  },
  {
   "cell_type": "code",
   "execution_count": 41,
   "metadata": {},
   "outputs": [
    {
     "name": "stdout",
     "output_type": "stream",
     "text": [
      "Rouge Score for CBOW: 0.29343628847572345\n"
     ]
    }
   ],
   "source": [
    "cbow_score = calculate_score(ref,cbow_summary)\n",
    "print(f\"Rouge Score for CBOW: {cbow_score}\")"
   ]
  },
  {
   "cell_type": "code",
   "execution_count": null,
   "metadata": {},
   "outputs": [],
   "source": []
  }
 ],
 "metadata": {
  "kernelspec": {
   "display_name": "nlp",
   "language": "python",
   "name": "python3"
  },
  "language_info": {
   "codemirror_mode": {
    "name": "ipython",
    "version": 3
   },
   "file_extension": ".py",
   "mimetype": "text/x-python",
   "name": "python",
   "nbconvert_exporter": "python",
   "pygments_lexer": "ipython3",
   "version": "3.11.7"
  }
 },
 "nbformat": 4,
 "nbformat_minor": 2
}
