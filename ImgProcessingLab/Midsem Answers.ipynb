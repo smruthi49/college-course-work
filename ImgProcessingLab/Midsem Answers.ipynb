{
 "cells": [
  {
   "cell_type": "code",
   "execution_count": 39,
   "metadata": {},
   "outputs": [],
   "source": [
    "import numpy as np\n",
    "import matplotlib.pyplot as plt\n",
    "import seaborn as sns\n",
    "import pandas as pd"
   ]
  },
  {
   "cell_type": "markdown",
   "metadata": {},
   "source": [
    "### 1a\n",
    "**Which are the three major sub systems of a digital camera? Explain any two important functions performed by the DSP sub system ?**\n",
    "\n",
    "Three major subsystems:\n",
    "- Optics\n",
    "- Analog to Digital Converter\n",
    "- Digital Signal Processing\\\n",
    "Few functions of DSP : Sharpening, Denoising"
   ]
  },
  {
   "cell_type": "markdown",
   "metadata": {},
   "source": [
    "### 1b\n",
    "\n",
    "**A manufacturing company purchased an imaging system whose function is to either smooth or sharpen images. The results of using the system on the manufacturing floor have been poor, and the plant manager suspects that the system is not smoothing and sharpening images the way it should. You are hired as a consultant to determine if the system is performing these functions properly. How would you determine if the system is working correctly?**\n",
    "\n",
    "The sum of values in a smoothing filter sums upto 1 (like, BOX filter). The sum of pixel values in the original image and the filtered image is equal while using a smoothing filter.\\\n",
    "The sum of values in a sharpening filter sums upto 0 (like, Sobel filter). The sum of pixel values in the filtered image is 0."
   ]
  },
  {
   "cell_type": "markdown",
   "metadata": {},
   "source": [
    "### 2a\n",
    "**Find the correlation and convolution between the sequences x(n) and h(n).**"
   ]
  },
  {
   "cell_type": "code",
   "execution_count": 40,
   "metadata": {},
   "outputs": [],
   "source": [
    "x =  np.array([1,2,3,5])\n",
    "h = np.array([0.5,0.5])"
   ]
  },
  {
   "cell_type": "code",
   "execution_count": 41,
   "metadata": {},
   "outputs": [],
   "source": [
    "def slide(x,h):\n",
    "    x = np.pad(x,[(1,)],mode='constant')\n",
    "    y = np.zeros((len(x)-1))\n",
    "    \n",
    "    for i in range(len(x)-1):\n",
    "        y[i] = (x[i]*h[0] + x[i+1]*h[1])\n",
    "        \n",
    "    return y"
   ]
  },
  {
   "cell_type": "code",
   "execution_count": 42,
   "metadata": {},
   "outputs": [
    {
     "name": "stdout",
     "output_type": "stream",
     "text": [
      "Convolution : [0.5 1.5 2.5 4.  2.5]\n",
      "Correlation : [0.5 1.5 2.5 4.  2.5]\n"
     ]
    }
   ],
   "source": [
    "conv = slide(x,np.flip(h))\n",
    "corr = slide(x, h)\n",
    "\n",
    "print(f\"Convolution : {conv}\\nCorrelation : {corr}\")"
   ]
  },
  {
   "cell_type": "code",
   "execution_count": 43,
   "metadata": {},
   "outputs": [
    {
     "name": "stdout",
     "output_type": "stream",
     "text": [
      "y(n) :  11.0\n"
     ]
    }
   ],
   "source": [
    "y = np.sum(conv)\n",
    "print(\"y(n) : \",y)"
   ]
  },
  {
   "cell_type": "markdown",
   "metadata": {},
   "source": [
    "### 2b\n",
    "\n",
    "**For the above problem, let y(n) = x(n) * h(n). Find sum(y(n)) .  Also find sum(y(n))  h(n) = {0.5, -0.5}.**"
   ]
  },
  {
   "cell_type": "code",
   "execution_count": 44,
   "metadata": {},
   "outputs": [
    {
     "name": "stdout",
     "output_type": "stream",
     "text": [
      "Convolution : [ 0.5  0.5  0.5  1.  -2.5]\n",
      "Correlation : [-0.5 -0.5 -0.5 -1.   2.5]\n"
     ]
    }
   ],
   "source": [
    "h = [0.5,-0.5]\n",
    "\n",
    "conv = slide(x,np.flip(h))\n",
    "corr = slide(x, h)\n",
    "\n",
    "print(f\"Convolution : {conv}\\nCorrelation : {corr}\")\n"
   ]
  },
  {
   "cell_type": "code",
   "execution_count": 45,
   "metadata": {},
   "outputs": [
    {
     "name": "stdout",
     "output_type": "stream",
     "text": [
      "y(n) :  0.0\n"
     ]
    }
   ],
   "source": [
    "y = np.sum(conv)\n",
    "print(\"y(n) : \",y)"
   ]
  },
  {
   "cell_type": "markdown",
   "metadata": {},
   "source": [
    "*Inference :* When the sum of values in filter is 0, the sum of pixel values in the image also evaluates to 0."
   ]
  },
  {
   "cell_type": "markdown",
   "metadata": {},
   "source": [
    "### 3a\n",
    "\n",
    "**An image is filtered with a kernel whose coefficients sum to 1. What is the relation between sum of the pixel values in the original and filtered images. Prove the result mathematically.**"
   ]
  },
  {
   "cell_type": "code",
   "execution_count": 46,
   "metadata": {},
   "outputs": [],
   "source": [
    "#BOX FILTER\n",
    "filter = np.array([[1/9,1/9,1/9],[1/9,1/9,1/9],[1/9,1/9,1/9]])\n",
    "\n",
    "#random 3x3 image\n",
    "image = np.array([[1,2,3],[4,5,6,],[7,8,9]])\n",
    "\n",
    "#convolution\n",
    "def convolution(image, filter):\n",
    "    \n",
    "    result = np.zeros((image.shape[0]+2, image.shape[1]+2))\n",
    "    \n",
    "    # zero padding\n",
    "    image = np.pad(image,[(2,), (2,)],mode = 'constant')\n",
    "    \n",
    "    for i in range(result.shape[0]):\n",
    "        for j in range(result.shape[1]):\n",
    "            result[i,j] = np.sum(image[i:i+3, j:j+3]*filter)\n",
    "            \n",
    "    return result"
   ]
  },
  {
   "cell_type": "code",
   "execution_count": 47,
   "metadata": {},
   "outputs": [
    {
     "name": "stdout",
     "output_type": "stream",
     "text": [
      "\n",
      "Original Image : \n",
      " [[1 2 3]\n",
      " [4 5 6]\n",
      " [7 8 9]]\n",
      "\n",
      "Filtered (Smoothened) Image : \n",
      " [[0.11111111 0.33333333 0.66666667 0.55555556 0.33333333]\n",
      " [0.55555556 1.33333333 2.33333333 1.77777778 1.        ]\n",
      " [1.33333333 3.         5.         3.66666667 2.        ]\n",
      " [1.22222222 2.66666667 4.33333333 3.11111111 1.66666667]\n",
      " [0.77777778 1.66666667 2.66666667 1.88888889 1.        ]]\n",
      "\n",
      "Sum of pixels in filter :  1.0\n",
      "\n",
      "Box Filter : \n",
      " [[0.11111111 0.11111111 0.11111111]\n",
      " [0.11111111 0.11111111 0.11111111]\n",
      " [0.11111111 0.11111111 0.11111111]]\n",
      "Sum of pixels in original image :  45\n",
      "Sum of pixels in filtered (Smoothened) image :  45.0\n"
     ]
    }
   ],
   "source": [
    "filtered_image = convolution(image, filter)\n",
    "\n",
    "print(\"\\nOriginal Image : \\n\", image)\n",
    "print(\"\\nFiltered (Smoothened) Image : \\n\", filtered_image)\n",
    "\n",
    "def sum_of_pixels(image):\n",
    "    return np.sum(image)\n",
    "\n",
    "print(\"\\nSum of pixels in filter : \", np.sum(filter))\n",
    "print(\"\\nBox Filter : \\n\",filter)\n",
    "print(\"Sum of pixels in original image : \", sum_of_pixels(image))\n",
    "print(\"Sum of pixels in filtered (Smoothened) image : \", sum_of_pixels(filtered_image))"
   ]
  },
  {
   "cell_type": "markdown",
   "metadata": {},
   "source": [
    "\n",
    "$$\n",
    "y(n) = x(n) * h(n)\\\\\n",
    "\n",
    "\n",
    "y(n) = \\sum_{k=0}^{inf} x(k) * h(n-k)\\\\\n",
    "\n",
    "\n",
    "\\sum_{n=0}^{inf} y(n) = \\sum_{n=0}^{inf} \\sum_{k=0}^{inf} x(k) * h(n-k)\\\\\n",
    "\n",
    "\n",
    "\\sum_{n=0}^{inf} y(n) = \\sum_{n=0}^{inf} x(k) \\sum_{k=0}^{inf} h(n-k)\\\\\n",
    "\n",
    "\n",
    "\\sum_{k=0}^{inf} h(n-k) = 1 \\\\\n",
    "\n",
    "\\sum_{n=0}^{inf} y(n) = \\sum_{n=0}^{inf} x(k)\n",
    "\n",
    "$$\n",
    "         sum of pixel values in filtered image = sum of pixel values in original image"
   ]
  },
  {
   "cell_type": "markdown",
   "metadata": {},
   "source": [
    "### 3b\n",
    "\n",
    "**An image is filtered with a kernel whose coefficients sum to 0. What is the sum of the pixel values in the filtered image? Prove the result mathematically.**"
   ]
  },
  {
   "cell_type": "code",
   "execution_count": 48,
   "metadata": {},
   "outputs": [],
   "source": [
    "#SOBEL FILTER\n",
    "filter = np.array([[0,-1,0],[-1,4,-1],[0,-1,0]])\n",
    "\n",
    "#random 3x3 image\n",
    "image = np.array([[1,2,3],[4,5,6,],[7,8,9]])"
   ]
  },
  {
   "cell_type": "code",
   "execution_count": 49,
   "metadata": {},
   "outputs": [
    {
     "name": "stdout",
     "output_type": "stream",
     "text": [
      "\n",
      "Original Image : \n",
      " [[1 2 3]\n",
      " [4 5 6]\n",
      " [7 8 9]]\n",
      "\n",
      "Filtered (Sharpened) Image : \n",
      " [[ 0. -1. -2. -3.  0.]\n",
      " [-1. -2. -1.  4. -3.]\n",
      " [-4.  3.  0.  7. -6.]\n",
      " [-7. 16. 11. 22. -9.]\n",
      " [ 0. -7. -8. -9.  0.]]\n",
      "\n",
      "Sum of pixels in filter :  0\n",
      "\n",
      "Sobel Filter : \n",
      " [[ 0 -1  0]\n",
      " [-1  4 -1]\n",
      " [ 0 -1  0]]\n",
      "Sum of pixels in original image :  45\n",
      "Sum of pixels in filtered (Sharpened) image :  0.0\n"
     ]
    }
   ],
   "source": [
    "filtered_image = convolution(image, filter)\n",
    "\n",
    "print(\"\\nOriginal Image : \\n\", image)\n",
    "print(\"\\nFiltered (Sharpened) Image : \\n\", filtered_image)\n",
    "\n",
    "def sum_of_pixels(image):\n",
    "    return np.sum(image)\n",
    "\n",
    "print(\"\\nSum of pixels in filter : \", np.sum(filter))\n",
    "print(\"\\nSobel Filter : \\n\",filter)\n",
    "print(\"Sum of pixels in original image : \", sum_of_pixels(image))\n",
    "print(\"Sum of pixels in filtered (Sharpened) image : \", sum_of_pixels(filtered_image))"
   ]
  },
  {
   "cell_type": "markdown",
   "metadata": {},
   "source": [
    "\n",
    "$$\n",
    "y(n) = x(n) * h(n)\\\\\n",
    "\n",
    "\n",
    "y(n) = \\sum_{k=0}^{inf} x(k) * h(n-k)\\\\\n",
    "\n",
    "\n",
    "\\sum_{n=0}^{inf} y(n) = \\sum_{n=0}^{inf} \\sum_{k=0}^{inf} x(k) * h(n-k)\\\\\n",
    "\n",
    "\n",
    "\\sum_{n=0}^{inf} y(n) = \\sum_{n=0}^{inf} x(k) \\sum_{k=0}^{inf} h(n-k)\\\\\n",
    "\n",
    "\n",
    "\\sum_{k=0}^{inf} h(n-k) = 0 \\\\\n",
    "\n",
    "\\sum_{n=0}^{inf} y(n) = 0\n",
    "\n",
    "$$\n",
    "         sum of pixel values in filtered image = 0"
   ]
  },
  {
   "cell_type": "markdown",
   "metadata": {},
   "source": [
    "### 4a\n",
    "\n",
    "**Suppose the normalized grey values in an image are uniform in the interval [0,10]. (Let the grey values to be continuous.). It is required to transform these grey values to a new set of values so that the histogram of the transformed values should be exponential in nature. Derive an appropriate expression for the required transformation.**\n",
    "\n",
    "\n",
    "$$\n",
    "F_{x}(x) ~ [0,10]\\\\\n",
    "\n",
    "F_{x}(x) = F_{y}(y)\\\\\n",
    "    \\textrm{(always   uniform    distribution)}\\\\\n",
    "\n",
    "F_{x}(x) = \\int\\limits_{-\\infty}^x f_{x}(u) du = \\frac{x}{10}\\\\\n",
    "\n",
    "F_{y}(y) = \\int\\limits_{-\\infty}^x f_{y}(u) du\\\\\n",
    "$$\n",
    "\n",
    "$$\n",
    "F_{y}(y) = \\int_{-\\infty}^{y} \\lambda e^{-\\lambda u} du\n",
    "$$\n",
    "\n",
    "$$\n",
    "F_{y}(y) = \\int_{0}^{y} \\lambda e^{-\\lambda u} du\n",
    "$$\n",
    "\n",
    "$$\n",
    "F_{y}(y) = \\frac{e^{-\\lambda u}}{-\\lambda}\n",
    "$$\n",
    "\n",
    "$$\n",
    "F_{y}(y) = F_{x}(x) = \\frac{x}{10} =  - [e^{-\\lambda y} - 1]\n",
    "$$\n",
    "\n",
    "$$\n",
    "\\frac{x}{10} = 1 - e^{-\\lambda y}\n",
    "$$\n",
    "\n",
    "$$\n",
    "x = 10 - 10e^{-\\lambda y}\n",
    "$$\n",
    "\n",
    "$$\n",
    "\\frac{10 - x}{10} = e^{-\\lambda y}\n",
    "$$\n",
    "\n",
    "$$\n",
    "\\log( \\frac{10 - x}{10}) = -\\lambda y\n",
    "$$\n",
    "\n",
    "$$\n",
    "y = \\frac{-1}{\\lambda} \\log( \\frac{10 - x}{10})\n",
    "$$"
   ]
  },
  {
   "cell_type": "markdown",
   "metadata": {},
   "source": [
    "### 4b\n",
    "\n",
    "**If a 3x3 box filter is applied on the image shown in Question 5(a), what is the filtered output corresponding to the center pixel in the input image.**\n"
   ]
  },
  {
   "cell_type": "code",
   "execution_count": 50,
   "metadata": {},
   "outputs": [
    {
     "name": "stdout",
     "output_type": "stream",
     "text": [
      "Image \n",
      " [[2 5 4 3 7]\n",
      " [0 7 2 1 1]\n",
      " [3 0 0 1 1]\n",
      " [2 3 2 4 6]\n",
      " [1 2 2 4 0]]\n",
      "\n",
      "Centre Pixel : 2.2222222222222223\n",
      "Rounded off value : 2.0\n"
     ]
    }
   ],
   "source": [
    "image = np.array([[2,5,4,3,7],[0,7,2,1,1],[3,0,0,1,1],[2,3,2,4,6],[1,2,2,4,0]])\n",
    "print(\"Image \\n\",image)\n",
    "\n",
    "#BOX FILTER\n",
    "filter = np.array([[1/9,1/9,1/9],[1/9,1/9,1/9],[1/9,1/9,1/9]])\n",
    "\n",
    "n = 5//2\n",
    "\n",
    "centre_pixel = np.sum(image[n-1:n+2, n-1:n+2]*filter)\n",
    "\n",
    "print(f\"\\nCentre Pixel : {centre_pixel}\\nRounded off value : {np.round(centre_pixel)}\")"
   ]
  },
  {
   "cell_type": "markdown",
   "metadata": {},
   "source": [
    "### 5a\n",
    "\n",
    "**Consider the following 3-bit 5x5 image and plot the histogram of its negative.**"
   ]
  },
  {
   "cell_type": "code",
   "execution_count": 51,
   "metadata": {},
   "outputs": [
    {
     "name": "stdout",
     "output_type": "stream",
     "text": [
      "[[2 5 4 3 7]\n",
      " [0 7 2 1 1]\n",
      " [3 0 0 1 1]\n",
      " [2 3 2 4 6]\n",
      " [1 2 2 4 0]]\n"
     ]
    }
   ],
   "source": [
    "image = np.array([[2,5,4,3,7],[0,7,2,1,1],[3,0,0,1,1],[2,3,2,4,6],[1,2,2,4,0]])\n",
    "print(image)"
   ]
  },
  {
   "cell_type": "code",
   "execution_count": 52,
   "metadata": {},
   "outputs": [
    {
     "name": "stdout",
     "output_type": "stream",
     "text": [
      "[[5 2 3 4 0]\n",
      " [7 0 5 6 6]\n",
      " [4 7 7 6 6]\n",
      " [5 4 5 3 1]\n",
      " [6 5 5 3 7]]\n"
     ]
    }
   ],
   "source": [
    "negative_image = 7 - image\n",
    "print(negative_image)"
   ]
  },
  {
   "cell_type": "code",
   "execution_count": 53,
   "metadata": {},
   "outputs": [],
   "source": [
    "def get_histogram(image,title):\n",
    "    histogram = np.zeros(8)\n",
    "    for i in range(5):\n",
    "        for j in range(5):\n",
    "            histogram[image[i,j]] += 1\n",
    "    sns.barplot(x=np.arange(8), y=histogram)\n",
    "    plt.title(title);\n",
    "    return histogram"
   ]
  },
  {
   "cell_type": "code",
   "execution_count": 54,
   "metadata": {},
   "outputs": [
    {
     "data": {
      "image/png": "[encoded data removed]",
      "text/plain": [
       "<Figure size 640x480 with 1 Axes>"
      ]
     },
     "metadata": {},
     "output_type": "display_data"
    }
   ],
   "source": [
    "histogram = get_histogram(image, \"Original Image\")"
   ]
  },
  {
   "cell_type": "code",
   "execution_count": 55,
   "metadata": {},
   "outputs": [
    {
     "data": {
      "text/plain": [
       "array([2., 1., 1., 3., 3., 6., 5., 4.])"
      ]
     },
     "execution_count": 55,
     "metadata": {},
     "output_type": "execute_result"
    },
    {
     "data": {
      "image/png": "[encoded data removed]",
      "text/plain": [
       "<Figure size 640x480 with 1 Axes>"
      ]
     },
     "metadata": {},
     "output_type": "display_data"
    }
   ],
   "source": [
    "get_histogram(negative_image, \"Negative Image\")"
   ]
  },
  {
   "cell_type": "markdown",
   "metadata": {},
   "source": [
    "### 5b\n",
    "\n",
    "**Perform histogram equalization on the above image and obtain the equalized image.**"
   ]
  },
  {
   "cell_type": "code",
   "execution_count": 56,
   "metadata": {},
   "outputs": [
    {
     "data": {
      "text/html": [
       "<div>\n",
       "<style scoped>\n",
       "    .dataframe tbody tr th:only-of-type {\n",
       "        vertical-align: middle;\n",
       "    }\n",
       "\n",
       "    .dataframe tbody tr th {\n",
       "        vertical-align: top;\n",
       "    }\n",
       "\n",
       "    .dataframe thead th {\n",
       "        text-align: right;\n",
       "    }\n",
       "</style>\n",
       "<table border=\"1\" class=\"dataframe\">\n",
       "  <thead>\n",
       "    <tr style=\"text-align: right;\">\n",
       "      <th></th>\n",
       "      <th>pixel</th>\n",
       "      <th>frequency</th>\n",
       "      <th>pdf</th>\n",
       "      <th>cdf</th>\n",
       "      <th>cdfx7</th>\n",
       "      <th>new_pixel</th>\n",
       "    </tr>\n",
       "  </thead>\n",
       "  <tbody>\n",
       "    <tr>\n",
       "      <th>0</th>\n",
       "      <td>0</td>\n",
       "      <td>4.0</td>\n",
       "      <td>0.16</td>\n",
       "      <td>0.16</td>\n",
       "      <td>1.12</td>\n",
       "      <td>1</td>\n",
       "    </tr>\n",
       "    <tr>\n",
       "      <th>1</th>\n",
       "      <td>1</td>\n",
       "      <td>5.0</td>\n",
       "      <td>0.20</td>\n",
       "      <td>0.36</td>\n",
       "      <td>2.52</td>\n",
       "      <td>3</td>\n",
       "    </tr>\n",
       "    <tr>\n",
       "      <th>2</th>\n",
       "      <td>2</td>\n",
       "      <td>6.0</td>\n",
       "      <td>0.24</td>\n",
       "      <td>0.60</td>\n",
       "      <td>4.20</td>\n",
       "      <td>4</td>\n",
       "    </tr>\n",
       "    <tr>\n",
       "      <th>3</th>\n",
       "      <td>3</td>\n",
       "      <td>3.0</td>\n",
       "      <td>0.12</td>\n",
       "      <td>0.72</td>\n",
       "      <td>5.04</td>\n",
       "      <td>5</td>\n",
       "    </tr>\n",
       "    <tr>\n",
       "      <th>4</th>\n",
       "      <td>4</td>\n",
       "      <td>3.0</td>\n",
       "      <td>0.12</td>\n",
       "      <td>0.84</td>\n",
       "      <td>5.88</td>\n",
       "      <td>6</td>\n",
       "    </tr>\n",
       "    <tr>\n",
       "      <th>5</th>\n",
       "      <td>5</td>\n",
       "      <td>1.0</td>\n",
       "      <td>0.04</td>\n",
       "      <td>0.88</td>\n",
       "      <td>6.16</td>\n",
       "      <td>6</td>\n",
       "    </tr>\n",
       "    <tr>\n",
       "      <th>6</th>\n",
       "      <td>6</td>\n",
       "      <td>1.0</td>\n",
       "      <td>0.04</td>\n",
       "      <td>0.92</td>\n",
       "      <td>6.44</td>\n",
       "      <td>6</td>\n",
       "    </tr>\n",
       "    <tr>\n",
       "      <th>7</th>\n",
       "      <td>7</td>\n",
       "      <td>2.0</td>\n",
       "      <td>0.08</td>\n",
       "      <td>1.00</td>\n",
       "      <td>7.00</td>\n",
       "      <td>7</td>\n",
       "    </tr>\n",
       "  </tbody>\n",
       "</table>\n",
       "</div>"
      ],
      "text/plain": [
       "   pixel  frequency   pdf   cdf  cdfx7  new_pixel\n",
       "0      0        4.0  0.16  0.16   1.12          1\n",
       "1      1        5.0  0.20  0.36   2.52          3\n",
       "2      2        6.0  0.24  0.60   4.20          4\n",
       "3      3        3.0  0.12  0.72   5.04          5\n",
       "4      4        3.0  0.12  0.84   5.88          6\n",
       "5      5        1.0  0.04  0.88   6.16          6\n",
       "6      6        1.0  0.04  0.92   6.44          6\n",
       "7      7        2.0  0.08  1.00   7.00          7"
      ]
     },
     "execution_count": 56,
     "metadata": {},
     "output_type": "execute_result"
    }
   ],
   "source": [
    "data = pd.DataFrame()\n",
    "data['pixel'] = [i for i in range(8)]\n",
    "data['frequency'] = [histogram[i] for i in range(8)]\n",
    "data['pdf'] = [histogram[i]/25 for i in range(8)]\n",
    "data['cdf'] = [sum(data['pdf'][:i+1]) for i in range(8)]\n",
    "data['cdfx7'] = [7*data['cdf'][i] for i in range(8)]\n",
    "data['new_pixel'] = [int(np.round(7*data['cdf'][i])) for i in range(8)] \n",
    "data"
   ]
  },
  {
   "cell_type": "code",
   "execution_count": 57,
   "metadata": {},
   "outputs": [
    {
     "data": {
      "text/plain": [
       "[0, 4.0, 0, 5.0, 6.0, 3.0, 5.0, 2.0]"
      ]
     },
     "execution_count": 57,
     "metadata": {},
     "output_type": "execute_result"
    }
   ],
   "source": [
    "new_histogram = [0 for i in range(8)]\n",
    "for i in range(8):\n",
    "    new_histogram[data['new_pixel'][i]] += data['frequency'][i]\n",
    "    \n",
    "new_histogram"
   ]
  },
  {
   "cell_type": "code",
   "execution_count": 58,
   "metadata": {},
   "outputs": [
    {
     "data": {
      "image/png": "[encoded data removed]",
      "text/plain": [
       "<Figure size 640x480 with 1 Axes>"
      ]
     },
     "metadata": {},
     "output_type": "display_data"
    }
   ],
   "source": [
    "sns.barplot(x=np.arange(8), y= new_histogram)\n",
    "plt.title(\"Equalized Histogram\");"
   ]
  },
  {
   "cell_type": "code",
   "execution_count": 59,
   "metadata": {},
   "outputs": [
    {
     "name": "stdout",
     "output_type": "stream",
     "text": [
      "EQUALIZED IMAGE : \n",
      "[[4. 6. 6. 5. 7.]\n",
      " [1. 7. 4. 3. 3.]\n",
      " [5. 1. 1. 3. 3.]\n",
      " [4. 5. 4. 6. 6.]\n",
      " [3. 4. 4. 6. 1.]]\n"
     ]
    }
   ],
   "source": [
    "equalized_image = np.zeros((5,5))\n",
    "for i in range(5):\n",
    "    for j in range(5):\n",
    "        equalized_image[i,j] = int(data['new_pixel'][image[i,j]])\n",
    "print(\"EQUALIZED IMAGE : \")\n",
    "print(equalized_image)"
   ]
  },
  {
   "cell_type": "markdown",
   "metadata": {},
   "source": [
    "-------"
   ]
  }
 ],
 "metadata": {
  "kernelspec": {
   "display_name": "imgp",
   "language": "python",
   "name": "python3"
  },
  "language_info": {
   "codemirror_mode": {
    "name": "ipython",
    "version": 3
   },
   "file_extension": ".py",
   "mimetype": "text/x-python",
   "name": "python",
   "nbconvert_exporter": "python",
   "pygments_lexer": "ipython3",
   "version": "3.12.1"
  }
 },
 "nbformat": 4,
 "nbformat_minor": 2
}
