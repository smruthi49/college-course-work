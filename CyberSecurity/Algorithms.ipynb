{
 "cells": [
  {
   "cell_type": "markdown",
   "metadata": {},
   "source": [
    "## Caesar Cipher"
   ]
  },
  {
   "cell_type": "code",
   "execution_count": 1,
   "metadata": {},
   "outputs": [],
   "source": [
    "from caesar import CaesarEncrypt, CaesarDecrypt"
   ]
  },
  {
   "cell_type": "code",
   "execution_count": 8,
   "metadata": {},
   "outputs": [
    {
     "name": "stdout",
     "output_type": "stream",
     "text": [
      "Encrypted: L dp ohduqlqj Fdhvdu Flskhu\n",
      "\n",
      "Decrypted Text : I am learning Caesar Cipher\n"
     ]
    }
   ],
   "source": [
    "plaintext = \"I am learning Caesar Cipher\"\n",
    "s = 3\n",
    "\n",
    "encrypted_string = CaesarEncrypt(plaintext, s)\n",
    "decrypted_string = CaesarDecrypt(encrypted_string, s)\n",
    "\n",
    "print(f\"Encrypted: {encrypted_string}\\n\")\n",
    "print(f\"Decrypted Text : {decrypted_string}\")"
   ]
  },
  {
   "cell_type": "markdown",
   "metadata": {},
   "source": [
    "## Vigenere Cipher"
   ]
  },
  {
   "cell_type": "code",
   "execution_count": 9,
   "metadata": {},
   "outputs": [],
   "source": [
    "from vigenere import VigenereEncrypt, VigenereDecrypt"
   ]
  },
  {
   "cell_type": "code",
   "execution_count": 10,
   "metadata": {},
   "outputs": [
    {
     "name": "stdout",
     "output_type": "stream",
     "text": [
      "Encrypted: QLFXNGSPYKEHMGMLPWACSKPOBG\n",
      "\n",
      "Decrypted Text : CYBERSECURITYTISTIMPORTANT\n"
     ]
    }
   ],
   "source": [
    "plaintext = \"CYBERSECURITY IS IMPORTANT\"\n",
    "key = \"ONETWO\"\n",
    "\n",
    "encrypted_string = VigenereEncrypt(plaintext, key)\n",
    "decrypted_string = VigenereDecrypt(encrypted_string, key)\n",
    "\n",
    "print(f\"Encrypted: {encrypted_string}\\n\")\n",
    "print(f\"Decrypted Text : {decrypted_string}\")"
   ]
  },
  {
   "cell_type": "markdown",
   "metadata": {},
   "source": [
    "## Railway Fence Cipher"
   ]
  },
  {
   "cell_type": "code",
   "execution_count": 11,
   "metadata": {},
   "outputs": [],
   "source": [
    "from railfence import RailFenceEncrypt, RailFenceDecrypt"
   ]
  },
  {
   "cell_type": "code",
   "execution_count": 13,
   "metadata": {},
   "outputs": [
    {
     "name": "stdout",
     "output_type": "stream",
     "text": [
      "Encrypted: Ioramd t akly ynsw tp p h eeth t wtfineoir\n",
      "\n",
      "Decrypted Text : I went to the park to play with my friends\n"
     ]
    }
   ],
   "source": [
    "plaintext = \"I went to the park to play with my friends\"\n",
    "key = 5\n",
    "\n",
    "encrypted_string = RailFenceEncrypt(plaintext, key)\n",
    "decrypted_string = RailFenceDecrypt(encrypted_string, key)\n",
    "\n",
    "print(f\"Encrypted: {encrypted_string}\\n\")\n",
    "print(f\"Decrypted Text : {decrypted_string}\")"
   ]
  },
  {
   "cell_type": "markdown",
   "metadata": {},
   "source": [
    "## Columnar Transposition"
   ]
  },
  {
   "cell_type": "code",
   "execution_count": 14,
   "metadata": {},
   "outputs": [],
   "source": [
    "from columnar_transposition import CTEncrypt, CTDecrypt"
   ]
  },
  {
   "cell_type": "code",
   "execution_count": 15,
   "metadata": {},
   "outputs": [
    {
     "name": "stdout",
     "output_type": "stream",
     "text": [
      "Encrypted: rilticnaSniiIle  aieAfanlnaD etc egedtcc\n",
      "\n",
      "Decrypted Text : Artificial Intelligence and Data Science\n"
     ]
    }
   ],
   "source": [
    "plaintext = \"Artificial Intelligence and Data Science\"\n",
    "key = \"MATH\"\n",
    "\n",
    "encrypted_string = CTEncrypt(plaintext, key)\n",
    "decrypted_string = CTDecrypt(encrypted_string, key)\n",
    "\n",
    "print(f\"Encrypted: {encrypted_string}\\n\")\n",
    "print(f\"Decrypted Text : {decrypted_string}\")"
   ]
  },
  {
   "cell_type": "markdown",
   "metadata": {},
   "source": [
    "## Play Fair Cipher"
   ]
  },
  {
   "cell_type": "code",
   "execution_count": 3,
   "metadata": {},
   "outputs": [],
   "source": [
    "from playfair import PlayFairEncrypt, PlayFairDecrypt"
   ]
  },
  {
   "cell_type": "code",
   "execution_count": 7,
   "metadata": {},
   "outputs": [
    {
     "name": "stdout",
     "output_type": "stream",
     "text": [
      "Encrypted: algdetatuobewiybndzv\n",
      "\n",
      "Decrypted Text : shivnadaruniversityz\n"
     ]
    }
   ],
   "source": [
    "plaintext = \"Shiv Nadar University\"\n",
    "key = \"DataScience\"\n",
    "\n",
    "encrypted_string = PlayFairEncrypt(plaintext, key)\n",
    "decrypted_string = PlayFairDecrypt(encrypted_string, key)\n",
    "\n",
    "print(f\"Encrypted: {encrypted_string}\\n\")\n",
    "print(f\"Decrypted Text : {decrypted_string}\")"
   ]
  },
  {
   "cell_type": "markdown",
   "metadata": {},
   "source": [
    "## Vernam Cipher"
   ]
  },
  {
   "cell_type": "code",
   "execution_count": 1,
   "metadata": {},
   "outputs": [],
   "source": [
    "from vernam import VernamEncrypt, VernamDecrypt"
   ]
  },
  {
   "cell_type": "code",
   "execution_count": 3,
   "metadata": {},
   "outputs": [
    {
     "name": "stdout",
     "output_type": "stream",
     "text": [
      "Encrypted: aamcfrnlwcjgbvxlp\n",
      "\n",
      "Decrypted Text : nationaldiscovery\n"
     ]
    }
   ],
   "source": [
    "plain = \"nationaldiscovery\"\n",
    "key = \"nature\"\n",
    "\n",
    "encrypted_string = VernamEncrypt(plain, key)\n",
    "decrypted_string = VernamDecrypt(encrypted_string, key)\n",
    "\n",
    "print(f\"Encrypted: {encrypted_string}\\n\")\n",
    "print(f\"Decrypted Text : {decrypted_string}\")"
   ]
  },
  {
   "cell_type": "markdown",
   "metadata": {},
   "source": [
    "## Hill Cipher"
   ]
  },
  {
   "cell_type": "code",
   "execution_count": 1,
   "metadata": {},
   "outputs": [],
   "source": [
    "from hillcipher import HillCipherEncrypt,HillCipherDecrypt"
   ]
  },
  {
   "cell_type": "code",
   "execution_count": 2,
   "metadata": {},
   "outputs": [
    {
     "name": "stdout",
     "output_type": "stream",
     "text": [
      "Encrypted: gvpjkgajymrhhmmsccyegvpekgvcwqlxxobme`akkg\n",
      "\n",
      "Decrypted Text : herbertyardleywrotetheamericanblackchamber\n"
     ]
    }
   ],
   "source": [
    "plain = \"herbert yardley wrote the american black chamber\"\n",
    "key = [[3,7],[5,12]]\n",
    "\n",
    "encrypted_string = HillCipherEncrypt(plain, key)\n",
    "decrypted_string = HillCipherDecrypt(encrypted_string, key)\n",
    "\n",
    "print(f\"Encrypted: {encrypted_string}\\n\")\n",
    "print(f\"Decrypted Text : {decrypted_string}\")"
   ]
  },
  {
   "cell_type": "markdown",
   "metadata": {},
   "source": [
    "## ROT 13"
   ]
  },
  {
   "cell_type": "code",
   "execution_count": 1,
   "metadata": {},
   "outputs": [],
   "source": [
    "from rot13 import ROT13Encrypt, ROT13Decrypt"
   ]
  },
  {
   "cell_type": "code",
   "execution_count": 3,
   "metadata": {},
   "outputs": [
    {
     "name": "stdout",
     "output_type": "stream",
     "text": [
      "Encrypted: uryyb sebz gur bgure fvqr\n",
      "\n",
      "Decrypted Text : hello from the other side\n"
     ]
    }
   ],
   "source": [
    "plain = \"hello from the other side\"\n",
    "\n",
    "encrypted_string = ROT13Encrypt(plain)\n",
    "decrypted_string = ROT13Decrypt(encrypted_string)\n",
    "\n",
    "print(f\"Encrypted: {encrypted_string}\\n\")\n",
    "print(f\"Decrypted Text : {decrypted_string}\")"
   ]
  },
  {
   "cell_type": "code",
   "execution_count": null,
   "metadata": {},
   "outputs": [],
   "source": []
  }
 ],
 "metadata": {
  "kernelspec": {
   "display_name": "Python 3",
   "language": "python",
   "name": "python3"
  },
  "language_info": {
   "codemirror_mode": {
    "name": "ipython",
    "version": 3
   },
   "file_extension": ".py",
   "mimetype": "text/x-python",
   "name": "python",
   "nbconvert_exporter": "python",
   "pygments_lexer": "ipython3",
   "version": "3.10.12"
  }
 },
 "nbformat": 4,
 "nbformat_minor": 2
}
